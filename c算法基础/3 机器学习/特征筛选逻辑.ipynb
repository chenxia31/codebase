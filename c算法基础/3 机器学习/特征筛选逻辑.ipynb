{
 "cells": [
  {
   "cell_type": "markdown",
   "metadata": {},
   "source": [
    "# 特征筛选主要基于几种方式\n",
    "1. Filter 方式，利用特征的过滤的求解方法，利用某种评价指标来计算所有特征的得分，根据特征的排序或者阈值的大小来选择合适的特征\n",
    "2. Wrapper 方式，基于特征排序和搜索出了的方式，来第一部分基于特征的排序来去除无关特征，第二部分利用搜索策略来哦删除冗余特征\n",
    "3. Embed 方式，将特征选择呢的算法嵌入在学习算法之中，嗯可以通过 L1 真这话、L2 正则化、针对高维数据的L1 正则化的 SVMS 算法来实现特征选择"
   ]
  }
 ],
 "metadata": {
  "language_info": {
   "name": "python"
  }
 },
 "nbformat": 4,
 "nbformat_minor": 2
}
