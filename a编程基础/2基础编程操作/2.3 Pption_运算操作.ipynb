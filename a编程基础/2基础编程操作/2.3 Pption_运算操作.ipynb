{
 "cells": [
  {
   "cell_type": "markdown",
   "metadata": {},
   "source": [
    "## Python 中 option 的运算操作\n",
    "\n",
    "1. 算术运算符  + - * / % ** //\n",
    "2. 比较运算符 == != > < >= <=\n",
    "3. 逻辑运算符 and or not\n",
    "4. 位运算符 & | ^ ~ << >>\n",
    "5. 赋值运算符 = += -= *= /= %= **= //=\n",
    "6. 成员运算符 in not in\n",
    "7. 身份运算符 is is not\n",
    "\n",
    "额外：\n",
    "is 和 == 的区别：is 判断两个变量引用对象是否为同一个，== 判断引用变量的值是否相等"
   ]
  },
  {
   "cell_type": "code",
   "execution_count": 2,
   "metadata": {},
   "outputs": [
    {
     "name": "stdout",
     "output_type": "stream",
     "text": [
      "13\n",
      "7\n",
      "30\n",
      "3.3333333333333335\n",
      "3\n",
      "1\n",
      "1000\n",
      "True\n",
      "False\n",
      "False\n"
     ]
    }
   ],
   "source": [
    "num1 = 10\n",
    "num2 = 3\n",
    "\n",
    "print(num1 + num2)\n",
    "print(num1 - num2)\n",
    "print(num1 * num2)\n",
    "print(num1 / num2)\n",
    "print(num1 // num2) # 取整数\n",
    "print(num1 % num2) # 取模\n",
    "print(num1 ** num2)\n",
    "print(num1 > num2)\n",
    "print(num1 < num2)\n",
    "print(num1 == num2)"
   ]
  },
  {
   "cell_type": "code",
   "execution_count": 3,
   "metadata": {},
   "outputs": [
    {
     "name": "stdout",
     "output_type": "stream",
     "text": [
      "二进制下的10和20: 0b1010 0b10100\n"
     ]
    }
   ],
   "source": [
    "a = 10\n",
    "b = 20\n",
    "print('二进制下的10和20:', bin(a), bin(b))"
   ]
  },
  {
   "cell_type": "code",
   "execution_count": 5,
   "metadata": {},
   "outputs": [
    {
     "name": "stdout",
     "output_type": "stream",
     "text": [
      "0\n",
      "30\n",
      "30\n",
      "-11\n",
      "40\n"
     ]
    }
   ],
   "source": [
    "print(a & b) # and 运算符\n",
    "print(a | b) # or 运算符\n",
    "print(a ^ b) # 异或运算符，相同为0，不同为1\n",
    "print(~a) # 取反运算符\n",
    "print(a << 2) # 左移运算符"
   ]
  },
  {
   "cell_type": "code",
   "execution_count": 8,
   "metadata": {},
   "outputs": [],
   "source": [
    "# await 用于异步编程\n",
    "# async def func():\n",
    "#     pass\n",
    "# await func()"
   ]
  },
  {
   "cell_type": "code",
   "execution_count": null,
   "metadata": {},
   "outputs": [],
   "source": []
  }
 ],
 "metadata": {
  "kernelspec": {
   "display_name": "step",
   "language": "python",
   "name": "python3"
  },
  "language_info": {
   "codemirror_mode": {
    "name": "ipython",
    "version": 3
   },
   "file_extension": ".py",
   "mimetype": "text/x-python",
   "name": "python",
   "nbconvert_exporter": "python",
   "pygments_lexer": "ipython3",
   "version": "3.9.19"
  }
 },
 "nbformat": 4,
 "nbformat_minor": 2
}
