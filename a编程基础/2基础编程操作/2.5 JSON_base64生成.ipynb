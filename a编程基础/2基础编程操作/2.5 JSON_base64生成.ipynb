{
 "cells": [
  {
   "cell_type": "markdown",
   "metadata": {},
   "source": [
    "# Python 中的 json 相关和 base64 相关的操作"
   ]
  },
  {
   "cell_type": "markdown",
   "metadata": {},
   "source": [
    "## 0x01 json 相关\n",
    "\n",
    "JSON (JavaScript Object Notation) 是一种轻量级的数据交换格式。它基于ECMAScript的一个子集。JSON采用完全独立于语言的文本格式，但是也使用了类似于C语言家族的习惯（包括C, C++, C#, Java, JavaScript, Perl, Python等）。这些特性使JSON成为理想的数据交换语言。\n",
    "\n",
    "json 中特殊转义字符包括\n",
    "1. “”\n",
    "2. \\\n",
    "3. 控制字符 \n",
    "4. \\b \\f \\n \\r \\t\n",
    "5. \\uXXXX 表示 16 进制字符"
   ]
  },
  {
   "cell_type": "code",
   "execution_count": 5,
   "metadata": {},
   "outputs": [
    {
     "name": "stdout",
     "output_type": "stream",
     "text": [
      "{\"name\": \"Tom\", \"age\": 20}\n",
      "\"{\\\"name\\\": \\\"Tom\\\", \\\"age\\\": 20}\"\n"
     ]
    }
   ],
   "source": [
    "# 主要使用 json 模块中的 dumps() 和 loads() 函数来实现字典和 JSON 格式的相互转换\n",
    "# dump() 与 dumps() 之间的区别是 dump() 直接将字典转换为 JSON 格式的文件，而 dumps() 是将字典转换为 JSON 格式的字符串\n",
    "\n",
    "dict1 = {\n",
    "    'name': 'Tom',\n",
    "    'age': 20,  \n",
    "}\n",
    "\n",
    "import json\n",
    "\n",
    "json_str = json.dumps(dict1)\n",
    "print(json_str)  # {\"name\": \"Tom\", \"age\": 20}\n",
    "\n",
    "dict2 = json.dumps(json_str,indent = 3)\n",
    "print(dict2)  # {\"name\": \"Tom\", \"age\": 20}"
   ]
  },
  {
   "cell_type": "markdown",
   "metadata": {},
   "source": [
    "## 0x02 base64 相关\n",
    "有的时候需要将不可见的字符串转换成为可见的字符串，因此需要进行编码，也就是将一个文件转换成为另一种文本文件中，base64编码是一种非常简单的\n",
    "二进制字节数据编码成可见字符的机智,不适合字符串加密，只是简单的字符串映射，非常容易被破解\n",
    "\n",
    "b64encode() 函数可以将二进制数据编码成 base64 字符串，b64decode() 函数可以将 base64 字符串解码成二进制数据\n"
   ]
  },
  {
   "cell_type": "code",
   "execution_count": 6,
   "metadata": {},
   "outputs": [
    {
     "name": "stdout",
     "output_type": "stream",
     "text": [
      "b'eyJuYW1lIjogIlRvbSIsICJhZ2UiOiAyMH0='\n"
     ]
    }
   ],
   "source": [
    "import base64\n",
    "\n",
    "str1 = base64.b64encode(json_str.encode('utf-8'))\n",
    "print(str1)  # b'eyJub25jZSI6ICJUb20iLCAiYWdlIjogMjB9'"
   ]
  },
  {
   "cell_type": "code",
   "execution_count": 8,
   "metadata": {},
   "outputs": [
    {
     "name": "stdout",
     "output_type": "stream",
     "text": [
      "b'{\"name\": \"Tom\", \"age\": 20}'\n"
     ]
    }
   ],
   "source": [
    "print(base64.b64decode(str1, altchars=b'-_'))"
   ]
  },
  {
   "cell_type": "code",
   "execution_count": null,
   "metadata": {},
   "outputs": [],
   "source": []
  }
 ],
 "metadata": {
  "kernelspec": {
   "display_name": "step",
   "language": "python",
   "name": "python3"
  },
  "language_info": {
   "codemirror_mode": {
    "name": "ipython",
    "version": 3
   },
   "file_extension": ".py",
   "mimetype": "text/x-python",
   "name": "python",
   "nbconvert_exporter": "python",
   "pygments_lexer": "ipython3",
   "version": "3.9.19"
  }
 },
 "nbformat": 4,
 "nbformat_minor": 2
}
