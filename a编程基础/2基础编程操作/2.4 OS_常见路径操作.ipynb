{
 "cells": [
  {
   "cell_type": "markdown",
   "metadata": {},
   "source": [
    "## 文件目录的操作\n",
    "\n",
    "目录对于Linux 意味什么？\n"
   ]
  },
  {
   "cell_type": "code",
   "execution_count": 5,
   "metadata": {},
   "outputs": [
    {
     "name": "stdout",
     "output_type": "stream",
     "text": [
      "False\n",
      ". [] ['2.3 Pption_运算操作.ipynb', '2.4 OS_常见路径操作.ipynb', '2.2 File_文件操作.ipynb', '2.1 ArgParse_参数解析.py', 'test.txt', 'data']\n"
     ]
    }
   ],
   "source": [
    "# os 文件夹常见的操作\n",
    "\n",
    "import os\n",
    "\n",
    "# os.mkdir('test')  # 创建文件夹\n",
    "\n",
    "# os.rmdir('test')  # 删除文件夹\n",
    "\n",
    "# os.rename('test', 'test1')  # 重命名文件夹\n",
    "\n",
    "# os.system('ls')  # 执行系统命令\n",
    "\n",
    "# os.system('touch test.txt')  # 创建文件\n",
    "\n",
    "# os.system('rm test.txt')  # 删除文件\n",
    "\n",
    "# 判断是否存在文件夹\n",
    "print(os.path.exists('test1'))\n",
    "\n",
    "# 遍历文件夹中的所有文件 os.walk\n",
    "for root, dirs, files in os.walk('.'):\n",
    "    # print(root)\n",
    "    # print(dirs)\n",
    "    # print(files)\n",
    "    print(root, dirs, files)"
   ]
  },
  {
   "cell_type": "markdown",
   "metadata": {},
   "source": [
    "os.path 相关操作\n",
    "1. os.path.exists(path) 判断文件或目录是否存在\n",
    "2. os.path.isfile(path) 判断是否是文件\n",
    "3. os.path.isdir(path) 判断是否是目录\n",
    "4. os.path.join(path1, path2, ...) 连接目录\n",
    "5. os.path.abspath(path) 返回绝对路径\n",
    "6. os.path.basename(path) 返回文件名\n",
    "7. os.path.dirname(path) 返回目录路径\n",
    "8. os.path.split(path) 返回目录路径和文件名\n",
    "9. os.path.splitext(path) 返回文件名和扩展名\n",
    "10. os.path.getsize(path) 返回文件大小\n",
    "11. os.path.getatime(path) 返回文件最后访问时间\n",
    "12. os.path.getmtime(path) 返回文件最后修改时间"
   ]
  },
  {
   "cell_type": "markdown",
   "metadata": {},
   "source": [
    "# Pathlib模块的常见的操作\n",
    "\n",
    "1. Path.cwd() 返回当前工作目录\n",
    "2. Path.home() 返回当前用户的家目录\n",
    "3. Path(path) 创建一个Path对象\n",
    "4. Path.exists() 判断文件或目录是否存在\n",
    "5. Path.is_file() 判断是否是文件\n",
    "6. Path.is_dir() 判断是否是目录\n",
    "7. Path.joinpath(*paths) 连接目录\n",
    "8. Path.resolve() 返回绝对路径\n",
    "9. Path.name() 返回文件名\n",
    "10. Path.parent() 返回目录路径\n",
    "11. Path.parts() 返回目录路径和文件名"
   ]
  },
  {
   "cell_type": "code",
   "execution_count": 1,
   "metadata": {},
   "outputs": [
    {
     "name": "stdout",
     "output_type": "stream",
     "text": [
      "hello world\n",
      "test\n",
      "\n"
     ]
    }
   ],
   "source": [
    "# 创建临时文件和临时文件夹 可以使用 tempfile  模块\n",
    "\n",
    "from tempfile import TemporaryFile, NamedTemporaryFile, TemporaryDirectory\n",
    "\n",
    "with TemporaryFile('w+t') as f:\n",
    "    f.write('hello world\\n')\n",
    "    f.write('test\\n')\n",
    "    f.seek(0)\n",
    "    data = f.read()\n",
    "    print(data)"
   ]
  },
  {
   "cell_type": "code",
   "execution_count": 4,
   "metadata": {},
   "outputs": [
    {
     "name": "stdout",
     "output_type": "stream",
     "text": [
      "{'a': 1, 'b': 2}\n"
     ]
    }
   ],
   "source": [
    "# 序列化对象\n",
    "import pickle\n",
    "data = {'a': 1, 'b': 2}\n",
    "path = 'data'\n",
    "with open(path, 'wb') as f:\n",
    "    pickle.dump(data, f)\n",
    "\n",
    "# 读取序列化对象\n",
    "with open(path, 'rb') as f:\n",
    "    data = pickle.load(f)\n",
    "    print(data)\n",
    "\n",
    "# 依赖外部系统和状态的对象，比如打开的文件、网络连接、线程、进程、栈帧等等不能被序列化\n",
    "# 因此用户需要在定义文件的时候使用 with 语句 __getstate__ 和 __setstate__ 方法\n",
    "# dump 时会调用 __getstate__ 方法\n",
    "# load 时会调用 __setstate__ 方法\n"
   ]
  },
  {
   "cell_type": "code",
   "execution_count": null,
   "metadata": {},
   "outputs": [],
   "source": []
  }
 ],
 "metadata": {
  "kernelspec": {
   "display_name": "step",
   "language": "python",
   "name": "python3"
  },
  "language_info": {
   "codemirror_mode": {
    "name": "ipython",
    "version": 3
   },
   "file_extension": ".py",
   "mimetype": "text/x-python",
   "name": "python",
   "nbconvert_exporter": "python",
   "pygments_lexer": "ipython3",
   "version": "3.9.19"
  }
 },
 "nbformat": 4,
 "nbformat_minor": 2
}
