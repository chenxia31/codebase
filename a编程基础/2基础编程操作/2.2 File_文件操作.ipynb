{
 "cells": [
  {
   "cell_type": "code",
   "execution_count": 2,
   "metadata": {},
   "outputs": [
    {
     "name": "stdout",
     "output_type": "stream",
     "text": [
      "Washington, DC\n",
      "Paris, France\n",
      "London, England\n",
      "4800 CAO'AN ROAD, JIADING DISTRICT, SHANGHAI, CHINA\n"
     ]
    }
   ],
   "source": [
    "# 读取文本文件的相关信息 \n",
    "\n",
    "# 读取文本文件的几种方式\n",
    "# r 读取文件\n",
    "# w 写入文件\n",
    "# a 追加文件\n",
    "# r+ 读取和写入文件\n",
    "# w+ 读取和写入文件\n",
    "# a+ 读取和写入文件\n",
    "# rb 读取二进制文件\n",
    "# wb 写入二进制文件\n",
    "# ab 追加二进制文件\n",
    "\n",
    "with open('test.txt', 'r') as f:\n",
    "    # 读取文件的全部内容\n",
    "    print(f.read())\n",
    "\n",
    "# 解释上面的 with 结构: \n",
    "\n",
    "# open() 函数返回一个文件对象，最常用的有两个参数：open(filename, mode)\n",
    "\n"
   ]
  },
  {
   "cell_type": "code",
   "execution_count": 4,
   "metadata": {},
   "outputs": [
    {
     "name": "stdout",
     "output_type": "stream",
     "text": [
      "Washington, DC\n",
      "Paris, France\n",
      "London, England\n",
      "4800 CAO'AN ROAD, JIADING DISTRICT, SHANGHAI, CHINA\n"
     ]
    }
   ],
   "source": [
    "# 常见的文本 encoding方法\n",
    "# ASCII\n",
    "# UTF-8\n",
    "# UTF-16\n",
    "# latin-1\n",
    "\n",
    "with open('test.txt', 'r', encoding='ASCII') as f:\n",
    "    print(f.read())"
   ]
  },
  {
   "cell_type": "code",
   "execution_count": null,
   "metadata": {},
   "outputs": [],
   "source": []
  }
 ],
 "metadata": {
  "kernelspec": {
   "display_name": "base",
   "language": "python",
   "name": "python3"
  },
  "language_info": {
   "codemirror_mode": {
    "name": "ipython",
    "version": 3
   },
   "file_extension": ".py",
   "mimetype": "text/x-python",
   "name": "python",
   "nbconvert_exporter": "python",
   "pygments_lexer": "ipython3",
   "version": "3.12.4"
  }
 },
 "nbformat": 4,
 "nbformat_minor": 2
}
