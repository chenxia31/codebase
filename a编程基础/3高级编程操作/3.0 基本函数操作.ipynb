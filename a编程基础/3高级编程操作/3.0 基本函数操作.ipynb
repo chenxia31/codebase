{
 "cells": [
  {
   "cell_type": "markdown",
   "metadata": {},
   "source": [
    "## 函数 Function\n",
    "\n",
    "函数是大部分高级编程语言的基础，这里需要总结 Python 函数的特性和对应的高阶函数。为后续打下基础"
   ]
  },
  {
   "cell_type": "markdown",
   "metadata": {},
   "source": [
    "## 0x01 函数定义和调用"
   ]
  },
  {
   "cell_type": "code",
   "execution_count": 1,
   "metadata": {},
   "outputs": [
    {
     "name": "stdout",
     "output_type": "stream",
     "text": [
      "hello world\n"
     ]
    }
   ],
   "source": [
    "def a():\n",
    "    print('hello world')\n",
    "a()"
   ]
  },
  {
   "cell_type": "code",
   "execution_count": 10,
   "metadata": {},
   "outputs": [
    {
     "name": "stdout",
     "output_type": "stream",
     "text": [
      "(1, [2, 3], 4, 5)\n",
      "(2, 3, 4)\n",
      "(2, 3, 4)\n",
      "{'c': 3, 'd': 4}\n"
     ]
    }
   ],
   "source": [
    "# python 函数参数类型包括哪些\n",
    "# 1. positional_only 参数，内置函数或者模块调用\n",
    "# 2. positional_or_keyword 参数，函数定义时的参数\n",
    "\n",
    "def b(a, b, c):\n",
    "    print(a, b, c)\n",
    "\n",
    "# 3. var-positional 参数，*args\n",
    "# 将所有接受到的，未被位置或者关键字参数接受的参数，放到一个 【元组 tuple】 中\n",
    "def c(*args):\n",
    "    print(args)\n",
    "\n",
    "c(1, [2, 3], 4, 5)\n",
    "\n",
    "# 4. keyword_only 参数，*，函数定义时的参数，转化成为一个 [字典 dict] 中\n",
    "def d(*args, a, b):\n",
    "    print(args)\n",
    "d(2,3,4,a=1, b=2)\n",
    "\n",
    "def d(*args,a,b,**kwargs):\n",
    "    print(args)\n",
    "    print(kwargs)\n",
    "\n",
    "d(2,3,4,a=1,b=2,c=3,d=4)\n",
    "# 5. var-keyword 参数，**kwargs"
   ]
  },
  {
   "cell_type": "markdown",
   "metadata": {},
   "source": [
    "## 0x02 作用于 Scope 和闭包\n",
    "\n",
    "在程序设计中变量能够做的范围称为作用域\n",
    "\n",
    "globals() 的内建函数"
   ]
  },
  {
   "cell_type": "code",
   "execution_count": 11,
   "metadata": {},
   "outputs": [
    {
     "name": "stdout",
     "output_type": "stream",
     "text": [
      "{'__name__': '__main__', '__doc__': 'Automatically created module for IPython interactive environment', '__package__': None, '__loader__': None, '__spec__': None, '__builtin__': <module 'builtins' (built-in)>, '__builtins__': <module 'builtins' (built-in)>, '_ih': ['', \"def a():\\n    print('hello world')\\na()\", '# python 函数参数类型包括哪些\\n# 1. positional_only 参数，内置函数或者模块调用\\n# 2. positional_or_keyword 参数，函数定义时的参数\\n\\ndef b(a, b, c):\\n    print(a, b, c)\\n\\n# 3. var-positional 参数，*args\\n# 将所有接受到的，未被位置或者关键字参数接受的参数，放到一个元组中\\ndef c(*args):\\n    print(args)\\n\\nc(1, 2, 3, 4, 5)\\n\\n# 4. keyword_only 参数，*，函数定义时的参数\\n# 5. var-keyword 参数，**kwargs', '# python 函数参数类型包括哪些\\n# 1. positional_only 参数，内置函数或者模块调用\\n# 2. positional_or_keyword 参数，函数定义时的参数\\n\\ndef b(a, b, c):\\n    print(a, b, c)\\n\\n# 3. var-positional 参数，*args\\n# 将所有接受到的，未被位置或者关键字参数接受的参数，放到一个元组中\\ndef c(*args):\\n    print(args)\\n\\nc(1, [2, 3], 4, 5)\\n\\n# 4. keyword_only 参数，*，函数定义时的参数\\n# 5. var-keyword 参数，**kwargs', '# python 函数参数类型包括哪些\\n# 1. positional_only 参数，内置函数或者模块调用\\n# 2. positional_or_keyword 参数，函数定义时的参数\\n\\ndef b(a, b, c):\\n    print(a, b, c)\\n\\n# 3. var-positional 参数，*args\\n# 将所有接受到的，未被位置或者关键字参数接受的参数，放到一个元组中\\ndef c(*args):\\n    print(args)\\n\\nc(1, [2, 3], 4, 5)\\n\\n# 4. keyword_only 参数，*，函数定义时的参数\\ndef d(*, a, b):\\n    print(a, b)\\n\\nd(a=1, b=2)\\n# 5. var-keyword 参数，**kwargs', '# python 函数参数类型包括哪些\\n# 1. positional_only 参数，内置函数或者模块调用\\n# 2. positional_or_keyword 参数，函数定义时的参数\\n\\ndef b(a, b, c):\\n    print(a, b, c)\\n\\n# 3. var-positional 参数，*args\\n# 将所有接受到的，未被位置或者关键字参数接受的参数，放到一个元组中\\ndef c(*args):\\n    print(args)\\n\\nc(1, [2, 3], 4, 5)\\n\\n# 4. keyword_only 参数，*，函数定义时的参数\\ndef d(*, a, b):\\n    print(*)\\n\\nd(a=1, b=2,2,3,4,5)\\n# 5. var-keyword 参数，**kwargs', '# python 函数参数类型包括哪些\\n# 1. positional_only 参数，内置函数或者模块调用\\n# 2. positional_or_keyword 参数，函数定义时的参数\\n\\ndef b(a, b, c):\\n    print(a, b, c)\\n\\n# 3. var-positional 参数，*args\\n# 将所有接受到的，未被位置或者关键字参数接受的参数，放到一个元组中\\ndef c(*args):\\n    print(args)\\n\\nc(1, [2, 3], 4, 5)\\n\\n# 4. keyword_only 参数，*，函数定义时的参数\\ndef d(*args, a, b):\\n    print(args)\\n\\nd(a=1, b=2,2,3,4,5)\\n# 5. var-keyword 参数，**kwargs', '# python 函数参数类型包括哪些\\n# 1. positional_only 参数，内置函数或者模块调用\\n# 2. positional_or_keyword 参数，函数定义时的参数\\n\\ndef b(a, b, c):\\n    print(a, b, c)\\n\\n# 3. var-positional 参数，*args\\n# 将所有接受到的，未被位置或者关键字参数接受的参数，放到一个元组中\\ndef c(*args):\\n    print(args)\\n\\nc(1, [2, 3], 4, 5)\\n\\n# 4. keyword_only 参数，*，函数定义时的参数\\ndef d(*args, a, b):\\n    print(args)\\n\\nd(a=1, b=2)\\n# 5. var-keyword 参数，**kwargs', '# python 函数参数类型包括哪些\\n# 1. positional_only 参数，内置函数或者模块调用\\n# 2. positional_or_keyword 参数，函数定义时的参数\\n\\ndef b(a, b, c):\\n    print(a, b, c)\\n\\n# 3. var-positional 参数，*args\\n# 将所有接受到的，未被位置或者关键字参数接受的参数，放到一个元组中\\ndef c(*args):\\n    print(args)\\n\\nc(1, [2, 3], 4, 5)\\n\\n# 4. keyword_only 参数，*，函数定义时的参数\\ndef d(*args, a, b):\\n    print(args)\\n\\nd(2,3,4,a=1, b=2)\\n# 5. var-keyword 参数，**kwargs', '# python 函数参数类型包括哪些\\n# 1. positional_only 参数，内置函数或者模块调用\\n# 2. positional_or_keyword 参数，函数定义时的参数\\n\\ndef b(a, b, c):\\n    print(a, b, c)\\n\\n# 3. var-positional 参数，*args\\n# 将所有接受到的，未被位置或者关键字参数接受的参数，放到一个 【元组 tuple】 中\\ndef c(*args):\\n    print(args)\\n\\nc(1, [2, 3], 4, 5)\\n\\n# 4. keyword_only 参数，*，函数定义时的参数\\ndef d(*args, a, b):\\n    print(args)\\nd(2,3,4,a=1, b=2)\\n\\ndef d(*args,a,b,**kwargs):\\n    print(args)\\n    print(kwargs)\\n\\nd(2,3,4,a=1,b=2,c=3,d=4)\\n# 5. var-keyword 参数，**kwargs', '# python 函数参数类型包括哪些\\n# 1. positional_only 参数，内置函数或者模块调用\\n# 2. positional_or_keyword 参数，函数定义时的参数\\n\\ndef b(a, b, c):\\n    print(a, b, c)\\n\\n# 3. var-positional 参数，*args\\n# 将所有接受到的，未被位置或者关键字参数接受的参数，放到一个 【元组 tuple】 中\\ndef c(*args):\\n    print(args)\\n\\nc(1, [2, 3], 4, 5)\\n\\n# 4. keyword_only 参数，*，函数定义时的参数，转化成为一个 [字典 dict] 中\\ndef d(*args, a, b):\\n    print(args)\\nd(2,3,4,a=1, b=2)\\n\\ndef d(*args,a,b,**kwargs):\\n    print(args)\\n    print(kwargs)\\n\\nd(2,3,4,a=1,b=2,c=3,d=4)\\n# 5. var-keyword 参数，**kwargs', 'print(globals())'], '_oh': {}, '_dh': [PosixPath('/Users/xuchenlong/Downloads/Codebase/Cookbook/a编程基础/3高级编程操作')], 'In': ['', \"def a():\\n    print('hello world')\\na()\", '# python 函数参数类型包括哪些\\n# 1. positional_only 参数，内置函数或者模块调用\\n# 2. positional_or_keyword 参数，函数定义时的参数\\n\\ndef b(a, b, c):\\n    print(a, b, c)\\n\\n# 3. var-positional 参数，*args\\n# 将所有接受到的，未被位置或者关键字参数接受的参数，放到一个元组中\\ndef c(*args):\\n    print(args)\\n\\nc(1, 2, 3, 4, 5)\\n\\n# 4. keyword_only 参数，*，函数定义时的参数\\n# 5. var-keyword 参数，**kwargs', '# python 函数参数类型包括哪些\\n# 1. positional_only 参数，内置函数或者模块调用\\n# 2. positional_or_keyword 参数，函数定义时的参数\\n\\ndef b(a, b, c):\\n    print(a, b, c)\\n\\n# 3. var-positional 参数，*args\\n# 将所有接受到的，未被位置或者关键字参数接受的参数，放到一个元组中\\ndef c(*args):\\n    print(args)\\n\\nc(1, [2, 3], 4, 5)\\n\\n# 4. keyword_only 参数，*，函数定义时的参数\\n# 5. var-keyword 参数，**kwargs', '# python 函数参数类型包括哪些\\n# 1. positional_only 参数，内置函数或者模块调用\\n# 2. positional_or_keyword 参数，函数定义时的参数\\n\\ndef b(a, b, c):\\n    print(a, b, c)\\n\\n# 3. var-positional 参数，*args\\n# 将所有接受到的，未被位置或者关键字参数接受的参数，放到一个元组中\\ndef c(*args):\\n    print(args)\\n\\nc(1, [2, 3], 4, 5)\\n\\n# 4. keyword_only 参数，*，函数定义时的参数\\ndef d(*, a, b):\\n    print(a, b)\\n\\nd(a=1, b=2)\\n# 5. var-keyword 参数，**kwargs', '# python 函数参数类型包括哪些\\n# 1. positional_only 参数，内置函数或者模块调用\\n# 2. positional_or_keyword 参数，函数定义时的参数\\n\\ndef b(a, b, c):\\n    print(a, b, c)\\n\\n# 3. var-positional 参数，*args\\n# 将所有接受到的，未被位置或者关键字参数接受的参数，放到一个元组中\\ndef c(*args):\\n    print(args)\\n\\nc(1, [2, 3], 4, 5)\\n\\n# 4. keyword_only 参数，*，函数定义时的参数\\ndef d(*, a, b):\\n    print(*)\\n\\nd(a=1, b=2,2,3,4,5)\\n# 5. var-keyword 参数，**kwargs', '# python 函数参数类型包括哪些\\n# 1. positional_only 参数，内置函数或者模块调用\\n# 2. positional_or_keyword 参数，函数定义时的参数\\n\\ndef b(a, b, c):\\n    print(a, b, c)\\n\\n# 3. var-positional 参数，*args\\n# 将所有接受到的，未被位置或者关键字参数接受的参数，放到一个元组中\\ndef c(*args):\\n    print(args)\\n\\nc(1, [2, 3], 4, 5)\\n\\n# 4. keyword_only 参数，*，函数定义时的参数\\ndef d(*args, a, b):\\n    print(args)\\n\\nd(a=1, b=2,2,3,4,5)\\n# 5. var-keyword 参数，**kwargs', '# python 函数参数类型包括哪些\\n# 1. positional_only 参数，内置函数或者模块调用\\n# 2. positional_or_keyword 参数，函数定义时的参数\\n\\ndef b(a, b, c):\\n    print(a, b, c)\\n\\n# 3. var-positional 参数，*args\\n# 将所有接受到的，未被位置或者关键字参数接受的参数，放到一个元组中\\ndef c(*args):\\n    print(args)\\n\\nc(1, [2, 3], 4, 5)\\n\\n# 4. keyword_only 参数，*，函数定义时的参数\\ndef d(*args, a, b):\\n    print(args)\\n\\nd(a=1, b=2)\\n# 5. var-keyword 参数，**kwargs', '# python 函数参数类型包括哪些\\n# 1. positional_only 参数，内置函数或者模块调用\\n# 2. positional_or_keyword 参数，函数定义时的参数\\n\\ndef b(a, b, c):\\n    print(a, b, c)\\n\\n# 3. var-positional 参数，*args\\n# 将所有接受到的，未被位置或者关键字参数接受的参数，放到一个元组中\\ndef c(*args):\\n    print(args)\\n\\nc(1, [2, 3], 4, 5)\\n\\n# 4. keyword_only 参数，*，函数定义时的参数\\ndef d(*args, a, b):\\n    print(args)\\n\\nd(2,3,4,a=1, b=2)\\n# 5. var-keyword 参数，**kwargs', '# python 函数参数类型包括哪些\\n# 1. positional_only 参数，内置函数或者模块调用\\n# 2. positional_or_keyword 参数，函数定义时的参数\\n\\ndef b(a, b, c):\\n    print(a, b, c)\\n\\n# 3. var-positional 参数，*args\\n# 将所有接受到的，未被位置或者关键字参数接受的参数，放到一个 【元组 tuple】 中\\ndef c(*args):\\n    print(args)\\n\\nc(1, [2, 3], 4, 5)\\n\\n# 4. keyword_only 参数，*，函数定义时的参数\\ndef d(*args, a, b):\\n    print(args)\\nd(2,3,4,a=1, b=2)\\n\\ndef d(*args,a,b,**kwargs):\\n    print(args)\\n    print(kwargs)\\n\\nd(2,3,4,a=1,b=2,c=3,d=4)\\n# 5. var-keyword 参数，**kwargs', '# python 函数参数类型包括哪些\\n# 1. positional_only 参数，内置函数或者模块调用\\n# 2. positional_or_keyword 参数，函数定义时的参数\\n\\ndef b(a, b, c):\\n    print(a, b, c)\\n\\n# 3. var-positional 参数，*args\\n# 将所有接受到的，未被位置或者关键字参数接受的参数，放到一个 【元组 tuple】 中\\ndef c(*args):\\n    print(args)\\n\\nc(1, [2, 3], 4, 5)\\n\\n# 4. keyword_only 参数，*，函数定义时的参数，转化成为一个 [字典 dict] 中\\ndef d(*args, a, b):\\n    print(args)\\nd(2,3,4,a=1, b=2)\\n\\ndef d(*args,a,b,**kwargs):\\n    print(args)\\n    print(kwargs)\\n\\nd(2,3,4,a=1,b=2,c=3,d=4)\\n# 5. var-keyword 参数，**kwargs', 'print(globals())'], 'Out': {}, 'get_ipython': <bound method InteractiveShell.get_ipython of <ipykernel.zmqshell.ZMQInteractiveShell object at 0x10784eb20>>, 'exit': <IPython.core.autocall.ZMQExitAutocall object at 0x10784e790>, 'quit': <IPython.core.autocall.ZMQExitAutocall object at 0x10784e790>, 'open': <function open at 0x10647d4c0>, '_': '', '__': '', '___': '', '__vsc_ipynb_file__': '/Users/xuchenlong/Downloads/Codebase/Cookbook/a编程基础/3高级编程操作/3.0 基本函数操作.ipynb', '_i': '# python 函数参数类型包括哪些\\n# 1. positional_only 参数，内置函数或者模块调用\\n# 2. positional_or_keyword 参数，函数定义时的参数\\n\\ndef b(a, b, c):\\n    print(a, b, c)\\n\\n# 3. var-positional 参数，*args\\n# 将所有接受到的，未被位置或者关键字参数接受的参数，放到一个 【元组 tuple】 中\\ndef c(*args):\\n    print(args)\\n\\nc(1, [2, 3], 4, 5)\\n\\n# 4. keyword_only 参数，*，函数定义时的参数，转化成为一个 [字典 dict] 中\\ndef d(*args, a, b):\\n    print(args)\\nd(2,3,4,a=1, b=2)\\n\\ndef d(*args,a,b,**kwargs):\\n    print(args)\\n    print(kwargs)\\n\\nd(2,3,4,a=1,b=2,c=3,d=4)\\n# 5. var-keyword 参数，**kwargs', '_ii': '# python 函数参数类型包括哪些\\n# 1. positional_only 参数，内置函数或者模块调用\\n# 2. positional_or_keyword 参数，函数定义时的参数\\n\\ndef b(a, b, c):\\n    print(a, b, c)\\n\\n# 3. var-positional 参数，*args\\n# 将所有接受到的，未被位置或者关键字参数接受的参数，放到一个 【元组 tuple】 中\\ndef c(*args):\\n    print(args)\\n\\nc(1, [2, 3], 4, 5)\\n\\n# 4. keyword_only 参数，*，函数定义时的参数\\ndef d(*args, a, b):\\n    print(args)\\nd(2,3,4,a=1, b=2)\\n\\ndef d(*args,a,b,**kwargs):\\n    print(args)\\n    print(kwargs)\\n\\nd(2,3,4,a=1,b=2,c=3,d=4)\\n# 5. var-keyword 参数，**kwargs', '_iii': '# python 函数参数类型包括哪些\\n# 1. positional_only 参数，内置函数或者模块调用\\n# 2. positional_or_keyword 参数，函数定义时的参数\\n\\ndef b(a, b, c):\\n    print(a, b, c)\\n\\n# 3. var-positional 参数，*args\\n# 将所有接受到的，未被位置或者关键字参数接受的参数，放到一个元组中\\ndef c(*args):\\n    print(args)\\n\\nc(1, [2, 3], 4, 5)\\n\\n# 4. keyword_only 参数，*，函数定义时的参数\\ndef d(*args, a, b):\\n    print(args)\\n\\nd(2,3,4,a=1, b=2)\\n# 5. var-keyword 参数，**kwargs', '_i1': \"def a():\\n    print('hello world')\\na()\", 'a': <function a at 0x1078ca430>, '_i2': '# python 函数参数类型包括哪些\\n# 1. positional_only 参数，内置函数或者模块调用\\n# 2. positional_or_keyword 参数，函数定义时的参数\\n\\ndef b(a, b, c):\\n    print(a, b, c)\\n\\n# 3. var-positional 参数，*args\\n# 将所有接受到的，未被位置或者关键字参数接受的参数，放到一个元组中\\ndef c(*args):\\n    print(args)\\n\\nc(1, 2, 3, 4, 5)\\n\\n# 4. keyword_only 参数，*，函数定义时的参数\\n# 5. var-keyword 参数，**kwargs', 'b': <function b at 0x1078ca040>, 'c': <function c at 0x1078baaf0>, '_i3': '# python 函数参数类型包括哪些\\n# 1. positional_only 参数，内置函数或者模块调用\\n# 2. positional_or_keyword 参数，函数定义时的参数\\n\\ndef b(a, b, c):\\n    print(a, b, c)\\n\\n# 3. var-positional 参数，*args\\n# 将所有接受到的，未被位置或者关键字参数接受的参数，放到一个元组中\\ndef c(*args):\\n    print(args)\\n\\nc(1, [2, 3], 4, 5)\\n\\n# 4. keyword_only 参数，*，函数定义时的参数\\n# 5. var-keyword 参数，**kwargs', '_i4': '# python 函数参数类型包括哪些\\n# 1. positional_only 参数，内置函数或者模块调用\\n# 2. positional_or_keyword 参数，函数定义时的参数\\n\\ndef b(a, b, c):\\n    print(a, b, c)\\n\\n# 3. var-positional 参数，*args\\n# 将所有接受到的，未被位置或者关键字参数接受的参数，放到一个元组中\\ndef c(*args):\\n    print(args)\\n\\nc(1, [2, 3], 4, 5)\\n\\n# 4. keyword_only 参数，*，函数定义时的参数\\ndef d(*, a, b):\\n    print(a, b)\\n\\nd(a=1, b=2)\\n# 5. var-keyword 参数，**kwargs', 'd': <function d at 0x1078baf70>, '_i5': '# python 函数参数类型包括哪些\\n# 1. positional_only 参数，内置函数或者模块调用\\n# 2. positional_or_keyword 参数，函数定义时的参数\\n\\ndef b(a, b, c):\\n    print(a, b, c)\\n\\n# 3. var-positional 参数，*args\\n# 将所有接受到的，未被位置或者关键字参数接受的参数，放到一个元组中\\ndef c(*args):\\n    print(args)\\n\\nc(1, [2, 3], 4, 5)\\n\\n# 4. keyword_only 参数，*，函数定义时的参数\\ndef d(*, a, b):\\n    print(*)\\n\\nd(a=1, b=2,2,3,4,5)\\n# 5. var-keyword 参数，**kwargs', '_i6': '# python 函数参数类型包括哪些\\n# 1. positional_only 参数，内置函数或者模块调用\\n# 2. positional_or_keyword 参数，函数定义时的参数\\n\\ndef b(a, b, c):\\n    print(a, b, c)\\n\\n# 3. var-positional 参数，*args\\n# 将所有接受到的，未被位置或者关键字参数接受的参数，放到一个元组中\\ndef c(*args):\\n    print(args)\\n\\nc(1, [2, 3], 4, 5)\\n\\n# 4. keyword_only 参数，*，函数定义时的参数\\ndef d(*args, a, b):\\n    print(args)\\n\\nd(a=1, b=2,2,3,4,5)\\n# 5. var-keyword 参数，**kwargs', '_i7': '# python 函数参数类型包括哪些\\n# 1. positional_only 参数，内置函数或者模块调用\\n# 2. positional_or_keyword 参数，函数定义时的参数\\n\\ndef b(a, b, c):\\n    print(a, b, c)\\n\\n# 3. var-positional 参数，*args\\n# 将所有接受到的，未被位置或者关键字参数接受的参数，放到一个元组中\\ndef c(*args):\\n    print(args)\\n\\nc(1, [2, 3], 4, 5)\\n\\n# 4. keyword_only 参数，*，函数定义时的参数\\ndef d(*args, a, b):\\n    print(args)\\n\\nd(a=1, b=2)\\n# 5. var-keyword 参数，**kwargs', '_i8': '# python 函数参数类型包括哪些\\n# 1. positional_only 参数，内置函数或者模块调用\\n# 2. positional_or_keyword 参数，函数定义时的参数\\n\\ndef b(a, b, c):\\n    print(a, b, c)\\n\\n# 3. var-positional 参数，*args\\n# 将所有接受到的，未被位置或者关键字参数接受的参数，放到一个元组中\\ndef c(*args):\\n    print(args)\\n\\nc(1, [2, 3], 4, 5)\\n\\n# 4. keyword_only 参数，*，函数定义时的参数\\ndef d(*args, a, b):\\n    print(args)\\n\\nd(2,3,4,a=1, b=2)\\n# 5. var-keyword 参数，**kwargs', '_i9': '# python 函数参数类型包括哪些\\n# 1. positional_only 参数，内置函数或者模块调用\\n# 2. positional_or_keyword 参数，函数定义时的参数\\n\\ndef b(a, b, c):\\n    print(a, b, c)\\n\\n# 3. var-positional 参数，*args\\n# 将所有接受到的，未被位置或者关键字参数接受的参数，放到一个 【元组 tuple】 中\\ndef c(*args):\\n    print(args)\\n\\nc(1, [2, 3], 4, 5)\\n\\n# 4. keyword_only 参数，*，函数定义时的参数\\ndef d(*args, a, b):\\n    print(args)\\nd(2,3,4,a=1, b=2)\\n\\ndef d(*args,a,b,**kwargs):\\n    print(args)\\n    print(kwargs)\\n\\nd(2,3,4,a=1,b=2,c=3,d=4)\\n# 5. var-keyword 参数，**kwargs', '_i10': '# python 函数参数类型包括哪些\\n# 1. positional_only 参数，内置函数或者模块调用\\n# 2. positional_or_keyword 参数，函数定义时的参数\\n\\ndef b(a, b, c):\\n    print(a, b, c)\\n\\n# 3. var-positional 参数，*args\\n# 将所有接受到的，未被位置或者关键字参数接受的参数，放到一个 【元组 tuple】 中\\ndef c(*args):\\n    print(args)\\n\\nc(1, [2, 3], 4, 5)\\n\\n# 4. keyword_only 参数，*，函数定义时的参数，转化成为一个 [字典 dict] 中\\ndef d(*args, a, b):\\n    print(args)\\nd(2,3,4,a=1, b=2)\\n\\ndef d(*args,a,b,**kwargs):\\n    print(args)\\n    print(kwargs)\\n\\nd(2,3,4,a=1,b=2,c=3,d=4)\\n# 5. var-keyword 参数，**kwargs', '_i11': 'print(globals())'}\n"
     ]
    }
   ],
   "source": [
    "print(globals())"
   ]
  },
  {
   "cell_type": "code",
   "execution_count": 12,
   "metadata": {},
   "outputs": [
    {
     "name": "stdout",
     "output_type": "stream",
     "text": [
      "15\n"
     ]
    }
   ],
   "source": [
    "# 闭包 closure 的定义：\n",
    "# 如果在一个内部函数中，对定义的外部函数的作用域中的变量进行了引用，说明这个子函数被认为是闭包\n",
    "\n",
    "# 闭包具有以下两个显著的特点，\n",
    "# 1. 是函数内部定义的内嵌函数\n",
    "# 2. 引用它的作用域之外的变量，但是并非是全局变量\n",
    "\n",
    "def offset(n):\n",
    "    base = n \n",
    "    def inner(offset):\n",
    "        return base + offset\n",
    "    return inner\n",
    "\n",
    "offset_5 = offset(5) \n",
    "print(offset_5(10))"
   ]
  },
  {
   "cell_type": "code",
   "execution_count": null,
   "metadata": {},
   "outputs": [],
   "source": []
  },
  {
   "cell_type": "markdown",
   "metadata": {},
   "source": [
    "## 0x03 python 变量的作用域\n",
    "- Local scope 局部作用域\n",
    "- Enclosing scope 闭包作用域，闭包函数之外的函数中\n",
    "- Global scope 全局作用域\n",
    "- Built-in scope 内建作用域"
   ]
  },
  {
   "cell_type": "markdown",
   "metadata": {},
   "source": [
    "## 0x04 从闭包到装饰器\n",
    "\n",
    "闭包函数虽然可以引用外层函数的变量，但是这个变量并不能够被动态改变\n"
   ]
  },
  {
   "cell_type": "code",
   "execution_count": 15,
   "metadata": {},
   "outputs": [
    {
     "name": "stdout",
     "output_type": "stream",
     "text": [
      "call func\n"
     ]
    }
   ],
   "source": [
    "# 装饰器 decorator 是 Python 的重要特性，装饰器可以看作是闭包的一种应用，可以再不改变原有函数的功能下，提供一些新的功能\n",
    "\n",
    "def func(name):\n",
    "    return f'hello {name}'\n",
    "import logging\n",
    "def logger(func):\n",
    "    func(0)\n",
    "    print(f'call {func.__name__}')\n",
    "    logging.debug(f'{func.__name__} is called')\n",
    "\n",
    "logger(func)"
   ]
  },
  {
   "cell_type": "code",
   "execution_count": null,
   "metadata": {},
   "outputs": [],
   "source": []
  }
 ],
 "metadata": {
  "kernelspec": {
   "display_name": "step",
   "language": "python",
   "name": "python3"
  },
  "language_info": {
   "codemirror_mode": {
    "name": "ipython",
    "version": 3
   },
   "file_extension": ".py",
   "mimetype": "text/x-python",
   "name": "python",
   "nbconvert_exporter": "python",
   "pygments_lexer": "ipython3",
   "version": "3.9.19"
  }
 },
 "nbformat": 4,
 "nbformat_minor": 2
}
