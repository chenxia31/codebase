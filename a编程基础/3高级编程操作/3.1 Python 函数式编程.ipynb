{
 "cells": [
  {
   "cell_type": "markdown",
   "metadata": {},
   "source": [
    "# Python 中函数式编程的相关技巧"
   ]
  },
  {
   "cell_type": "code",
   "execution_count": 1,
   "metadata": {},
   "outputs": [
    {
     "name": "stdout",
     "output_type": "stream",
     "text": [
      "[1, 4, 9, 16, 25]\n",
      "[-5, -4, -3, -2, -1]\n",
      "24\n",
      "[(1, 'a'), (2, 'b'), (3, 'c'), (4, 'd')]\n"
     ]
    }
   ],
   "source": [
    "# Python 中 lisp 相关的函数\n",
    "# map: 对序列中的每个元素进行操作\n",
    "# filter: 对序列中的每个元素进行判断\n",
    "# reduce: 对序列中的每个元素进行累加操作\n",
    "# lambda: 匿名函数\n",
    "# zip: 对序列中的每个元素进行打包操作\n",
    "# enumerate: 对序列中的每个元素进行索引操作\n",
    "# groupby : 对序列中的每个元素进行分组操作\n",
    "\n",
    "# map 的使用, 将一个可迭代对象中的每一个元素送入函数中进行操作，直接返回对应的可迭代之后的结果 map(function, iterable)\n",
    "items = [1,2,3,4,5]\n",
    "squared = list(map(lambda x: x**2, items))\n",
    "print(squared)\n",
    "\n",
    "# filter 的使用, 将一个可迭代对象中的每一个元素送入函数中进行判断，直接返回对应的可迭代之后的结果 filter(function, iterable)\n",
    "number_list = range(-5,5)\n",
    "less_than_zero = list(filter(lambda x: x<0, number_list))\n",
    "print(less_than_zero)\n",
    "\n",
    "# reduce 的使用, 将一个可迭代对象中的每一个元素送入函数中进行累加操作，直接返回对应的可迭代之后的结果 reduce(function, iterable)\n",
    "from functools import reduce\n",
    "product = reduce((lambda x, y: x*y), [1,2,3,4])\n",
    "print(product)\n",
    "\n",
    "# zip 的使用, 将两个可迭代对象中的每一个元素进行打包操作，直接返回对应的可迭代之后的结果 zip(iterable1, iterable2)\n",
    "list1 = [1,2,3,4]\n",
    "list2 = ['a','b','c','d']\n",
    "zipped = list(zip(list1, list2))\n",
    "print(zipped)\n"
   ]
  },
  {
   "cell_type": "markdown",
   "metadata": {},
   "source": []
  },
  {
   "cell_type": "code",
   "execution_count": null,
   "metadata": {},
   "outputs": [],
   "source": []
  }
 ],
 "metadata": {
  "kernelspec": {
   "display_name": "step",
   "language": "python",
   "name": "python3"
  },
  "language_info": {
   "codemirror_mode": {
    "name": "ipython",
    "version": 3
   },
   "file_extension": ".py",
   "mimetype": "text/x-python",
   "name": "python",
   "nbconvert_exporter": "python",
   "pygments_lexer": "ipython3",
   "version": "3.9.19"
  }
 },
 "nbformat": 4,
 "nbformat_minor": 2
}
