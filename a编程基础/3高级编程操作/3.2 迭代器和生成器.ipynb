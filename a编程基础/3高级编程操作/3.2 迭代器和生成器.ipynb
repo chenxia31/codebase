{
 "cells": [
  {
   "cell_type": "markdown",
   "metadata": {},
   "source": [
    "## 迭代器和生成器\n",
    "\n",
    "迭代器 itertools：记住遍历位置的对象，迭代器从集合中的第一个元素开始访问直到结束，只会往前不会后退。核心方法是iter()和next()。\n",
    "\n",
    "生成器 generator：一边循环一边计算的机制，每次循环都会计算出下一个元素的值，不必创建完整的list，节省内存。核心方法是yield。\n",
    "\n",
    "注意这个在神经网络中计算是非常有效的"
   ]
  },
  {
   "cell_type": "code",
   "execution_count": 2,
   "metadata": {},
   "outputs": [
    {
     "name": "stdout",
     "output_type": "stream",
     "text": [
      "1\n",
      "2\n",
      "3\n",
      "4\n",
      "0\n",
      "1\n",
      "1\n",
      "2\n",
      "3\n",
      "5\n",
      "8\n",
      "13\n",
      "21\n",
      "34\n",
      "55\n"
     ]
    }
   ],
   "source": [
    "# 入门 构造迭代器\n",
    "list = [1, 2, 3, 4]\n",
    "list_iter = iter(list) \n",
    "print(next(list_iter)) # 1\n",
    "\n",
    "# 生成器：生成器是一个返回迭代器的函数\n",
    "for value in list_iter:\n",
    "    print(value)\n",
    "\n",
    "# 利用 yield 关键字来构造生成器\n",
    "def fibonacci(n):\n",
    "    a, b, counter = 0, 1, 0\n",
    "    while True:\n",
    "        if counter > n:\n",
    "            return\n",
    "        yield a\n",
    "        a, b = b, a + b\n",
    "        counter += 1\n",
    "\n",
    "fibo_gen = fibonacci(10)\n",
    "for value in fibo_gen:\n",
    "    print(value)"
   ]
  },
  {
   "cell_type": "code",
   "execution_count": 3,
   "metadata": {},
   "outputs": [
    {
     "name": "stdout",
     "output_type": "stream",
     "text": [
      "(1, 2, 3)\n",
      "(1, 3, 2)\n",
      "(2, 1, 3)\n",
      "(2, 3, 1)\n",
      "(3, 1, 2)\n",
      "(3, 2, 1)\n",
      "(1, 2)\n",
      "(1, 3)\n",
      "(2, 1)\n",
      "(2, 3)\n",
      "(3, 1)\n",
      "(3, 2)\n"
     ]
    }
   ],
   "source": [
    "#  使用 itertools 来构造函数实现迭代器\n",
    "# permutations() 生成一个序列的所有排列\n",
    "# combinations() 生成一个序列的所有组合\n",
    "# zip or zip_longest() 生成多个序列之间的组合\n",
    "# chain 允许对多个集合进行操作\n",
    "\n",
    "# itertools.permutations() 生成一个序列的所有排列\n",
    "from itertools import permutations\n",
    "for value in permutations([1, 2, 3]):\n",
    "    print(value)\n",
    "\n",
    "for value in permutations([1, 2, 3], 2):\n",
    "    print(value)    "
   ]
  },
  {
   "cell_type": "code",
   "execution_count": 2,
   "metadata": {},
   "outputs": [
    {
     "name": "stdout",
     "output_type": "stream",
     "text": [
      "(1, 2)\n",
      "(1, 3)\n",
      "(2, 3)\n"
     ]
    }
   ],
   "source": [
    "# 获得指定长度的列表 也就是排列组合 combination\n",
    "from itertools import combinations\n",
    "for value in combinations([1, 2, 3], 2):\n",
    "    print(value)"
   ]
  },
  {
   "cell_type": "code",
   "execution_count": 4,
   "metadata": {},
   "outputs": [
    {
     "name": "stdout",
     "output_type": "stream",
     "text": [
      "0 a\n",
      "1 b\n",
      "2 c\n"
     ]
    }
   ],
   "source": [
    "# 为迭代器增加一个计数器\n",
    "for idx, value in enumerate(['a', 'b', 'c']):\n",
    "    print(idx, value)"
   ]
  },
  {
   "cell_type": "code",
   "execution_count": 5,
   "metadata": {},
   "outputs": [],
   "source": [
    "# 进程之间通信的方式有哪些\n",
    "# 1. 消息队列 message queue ：允许进程之间以消息为单位进行通信，可以实现随机读写和消息优先级控制\n",
    "# 2. 共享内存 shared memory： 多个进程可以将同一块物理内存映射到各自的地址空间实现高速的数据共享\n",
    "# 3. 信号量 semaphore： 用于进程之间的同步和互斥\n",
    "# 4. 信号 signal： 用于通知进程发生了某种事件\n",
    "# 5. 套接字 socket： 用于不同主机之间的进程通信\n",
    "# 6. 管道 pipe： 用于父子进程之间的通信"
   ]
  },
  {
   "cell_type": "code",
   "execution_count": 40,
   "metadata": {},
   "outputs": [
    {
     "name": "stdout",
     "output_type": "stream",
     "text": [
      "    \"from itertools import permutations\\n\",\n",
      "\n",
      "    \"from itertools import combinations\\n\",\n",
      "\n",
      "      \"    \\\"from itertools import permutations\\\\n\\\",\\n\",\n",
      "\n",
      "      \"    \\\"from itertools import combinations\\\\n\\\",\\n\",\n",
      "\n",
      "      \"      \\\"Cell \\\\u001b[0;32mIn[36], line 58\\\\u001b[0m\\\\n\\\\u001b[1;32m     54\\\\u001b[0m lines \\\\u001b[38;5;241m=\\\\u001b[39m gen_lines(files)\\\\n\\\\u001b[1;32m     56\\\\u001b[0m pylines \\\\u001b[38;5;241m=\\\\u001b[39m gen_grep(\\\\u001b[38;5;124m'\\\\u001b[39m\\\\u001b[38;5;124mimport\\\\u001b[39m\\\\u001b[38;5;124m'\\\\u001b[39m, lines)\\\\n\\\\u001b[0;32m---> 58\\\\u001b[0m \\\\u001b[38;5;28;01mfor\\\\u001b[39;00m line \\\\u001b[38;5;129;01min\\\\u001b[39;00m lines:\\\\n\\\\u001b[1;32m     59\\\\u001b[0m     \\\\u001b[38;5;28mprint\\\\u001b[39m(line)\\\\n\\\",\\n\",\n",
      "\n",
      "      \"    \\\"import os\\\\n\\\",\\n\",\n",
      "\n",
      "      \"    \\\"pylines = gen_grep('import', lines)\\\\n\\\",\\n\",\n",
      "\n",
      "      \"import sys\\n\",\n",
      "\n",
      "      \"import argparse\\n\",\n",
      "\n",
      "    \"import os\\n\",\n",
      "\n",
      "    \"pylines = gen_grep('import', lines)\\n\",\n",
      "\n",
      "import sys\n",
      "\n",
      "import argparse\n",
      "\n"
     ]
    }
   ],
   "source": [
    "# 数据管道的方式迭代数据，比如大量的数据需要处理但是不能一次性的存放到内存中\n",
    "# foo 文件夹中存在多个 txt 文件\n",
    "# bar 文件夹中存在多个 txt 文件\n",
    "# 需要找到所有 txt 文件中带有 get 请求的行\n",
    "# 在实现这个需求的过程中需要考虑，不能一次性的读入太多的文件避免内存的爆炸，这里需要采用迭代器的方式来阅读文件\n",
    "\n",
    "# 梳理pipeline\n",
    "# 1. 找到所有文件的绝对路径，并利用生成器构建迭代器\n",
    "# 2. 读取操作\n",
    "# 3. 生成操作\n",
    "\n",
    "import os\n",
    "\n",
    "# os 函数的关键操作\n",
    "def gen_find(file_path):\n",
    "    ''' \n",
    "    获取文件路径生成器\n",
    "    '''\n",
    "    for path, dir_list, file_list in os.walk(file_path):\n",
    "        for file_name in file_list:\n",
    "            yield os.path.abspath(os.path.join(path, file_name))\n",
    "\n",
    "def gen_opener(filenames):\n",
    "    '''\n",
    "    每一行文件的迭代生成器\n",
    "    '''\n",
    "    for filename in filenames:\n",
    "        if filename.endswith('.txt'):\n",
    "            # 如何打开 py 文件\n",
    "            f = open(filename, 'rt')\n",
    "        else:\n",
    "            f = open(filename, 'rt')\n",
    "        yield f\n",
    "        f.close()\n",
    "\n",
    "def gen_lines(files):\n",
    "    ''' \n",
    "    读取文件的每一行，并利用生成器来生成迭代器, 助力这里生成的是多个列表的迭代器\n",
    "    ''' \n",
    "    for file in files:\n",
    "        for line in file.readlines():\n",
    "            yield line\n",
    "\n",
    "def gen_grep(pattern, lines):\n",
    "    '''\n",
    "    匹配行的生成器\n",
    "    '''\n",
    "    for line in lines:\n",
    "        if pattern in line:\n",
    "            yield line\n",
    "\n",
    "paths = gen_find('./')\n",
    "files = gen_opener(paths)\n",
    "lines = gen_lines(files)\n",
    "\n",
    "pylines = gen_grep('import', lines)\n",
    "\n",
    "for line in pylines:\n",
    "    print(line)\n"
   ]
  },
  {
   "cell_type": "code",
   "execution_count": 1,
   "metadata": {},
   "outputs": [],
   "source": [
    "# iter 对象可以配合函数式编程中的操作可以实现高级函数式编程\n",
    "# 具体可以可以见函数式编程"
   ]
  },
  {
   "cell_type": "code",
   "execution_count": null,
   "metadata": {},
   "outputs": [],
   "source": []
  }
 ],
 "metadata": {
  "kernelspec": {
   "display_name": "step",
   "language": "python",
   "name": "python3"
  },
  "language_info": {
   "codemirror_mode": {
    "name": "ipython",
    "version": 3
   },
   "file_extension": ".py",
   "mimetype": "text/x-python",
   "name": "python",
   "nbconvert_exporter": "python",
   "pygments_lexer": "ipython3",
   "version": "3.9.19"
  }
 },
 "nbformat": 4,
 "nbformat_minor": 2
}
