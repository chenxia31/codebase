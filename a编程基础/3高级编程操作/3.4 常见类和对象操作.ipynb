{
 "cells": [
  {
   "cell_type": "markdown",
   "metadata": {},
   "source": [
    "## 常见类和对象操作\n",
    "\n",
    "这些从实践中观察如何来构造常见的类的示例，包括但不限于\n",
    "1. torch dataset 的自定义实现方式，【基于 tensor】、【基于序列数据】、【基于文本数据】\n",
    "2. torch Model 的自定义实现方式\n",
    "3. scikit learner 的自定义实现方式\n",
    "4. 定义数据预处理的管道（Filter、Transformer、Fit、Predict）\n",
    "5. 自定义评估指标和回调函数\n",
    "6. 创建工具类类封装常用的功能，包括日志记录、配置管理等\n",
    "7. 利用类关管理实验的参数、结果和模型、方便实验的追踪和对比\n",
    "8. 集成第三方服务和接口，利用 API 封装来简化调用"
   ]
  },
  {
   "cell_type": "code",
   "execution_count": 9,
   "metadata": {},
   "outputs": [],
   "source": [
    "# Py Torch 中的 dataset 和 dataloader \n",
    "# 如何通过自己编写脚本的方式来实现数据集的自身制作\n",
    "import torch \n",
    "from torch.utils.data import Dataset, DataLoader\n",
    "\n",
    "class BaseDataset(Dataset):\n",
    "    ''' \n",
    "    通过集成 torch.utils.data.Dataset 类来实现自定义数据集\n",
    "    '''\n",
    "    def __init__(self):\n",
    "        self.data = torch.randn(100, 3, 32, 32)\n",
    "        self.label = torch.randint(0, 10, (100, ))\n",
    "    \n",
    "    def __len__(self):\n",
    "        ''' \n",
    "        重新定义两个基本的方法，一个是 __len__ 方法，用来返回数据集的长度\n",
    "        '''\n",
    "        return len(self.data)\n",
    "    \n",
    "    def __getitem__(self, index):\n",
    "        '''\n",
    "        另一个是 __getitem__ 方法，用来根据索引获取数据\n",
    "        '''\n",
    "        return self.data[index], self.label[index]\n",
    "\n",
    "class SeriesDataset(Dataset):\n",
    "    ''' \n",
    "    自定义适合时间序列数据的数据集\n",
    "    '''\n",
    "    def __init__(self, data, window_size):\n",
    "        self.data = data\n",
    "        self.window_size = window_size\n",
    "    \n",
    "    def __len__(self):\n",
    "        return len(self.data) - self.window_size\n",
    "    \n",
    "    def __getitem__(self, index):\n",
    "        return self.data[index:index+self.window_size]\n",
    "\n",
    "class TextDataset(Dataset):\n",
    "    ''' \n",
    "    自定义适合文本数据的数据集\n",
    "    '''\n",
    "    def __init__(self, data, vocab):\n",
    "        self.data = data\n",
    "        self.vocab = vocab\n",
    "    \n",
    "    def __len__(self):\n",
    "        return len(self.data)\n",
    "    \n",
    "    def __getitem__(self, index):\n",
    "        return self.data[index]"
   ]
  },
  {
   "cell_type": "code",
   "execution_count": 10,
   "metadata": {},
   "outputs": [
    {
     "name": "stdout",
     "output_type": "stream",
     "text": [
      "['pytorch', 'hello']\n"
     ]
    }
   ],
   "source": [
    "#  callback 函数是什么意思？ \n",
    "# 回调是编程模式，讲一个函数作为参数传递给另外一个函数，再满足某个特定条件发生时调用该\n",
    "# 函数，这种机制允许程序再运行过程中动态决定某些操作，从而实现灵活性和拓展性\n",
    "\n",
    "# 回调函数的分类包括\n",
    "# 1. 同步回调 sync callback\n",
    "# 2. 异步回调 async callback,这里的操作和嵌入式中的中断很相似\n",
    "\n"
   ]
  },
  {
   "cell_type": "code",
   "execution_count": 13,
   "metadata": {},
   "outputs": [
    {
     "name": "stdout",
     "output_type": "stream",
     "text": [
      "start fetching\n",
      "end fetching\n"
     ]
    },
    {
     "name": "stdout",
     "output_type": "stream",
     "text": [
      "<!DOCTYPE html>\n",
      "<!--STATUS OK--><html> <head><meta http-equiv=content-type content=text/html;charset=utf-8><meta http-equiv=X-UA-Compatible content=IE=Edge><meta content=always name=referrer><link rel=stylesheet type=text/css href=https://ss1.bdstatic.com/5eN1bjq8AAUYm2zgoY3K/r/www/cache/bdorz/baidu.min.css><title>ç¾åº¦ä¸ä¸ï¼ä½ å°±ç¥é</title></head> <body link=#0000cc> <div id=wrapper> <div id=head> <div class=head_wrapper> <div class=s_form> <div class=s_form_wrapper> <div id=lg> <img hidefocus=true src=//www.baidu.com/img/bd_logo1.png width=270 height=129> </div> <form id=form name=f action=//www.baidu.com/s class=fm> <input type=hidden name=bdorz_come value=1> <input type=hidden name=ie value=utf-8> <input type=hidden name=f value=8> <input type=hidden name=rsv_bp value=1> <input type=hidden name=rsv_idx value=1> <input type=hidden name=tn value=baidu><span class=\"bg s_ipt_wr\"><input id=kw name=wd class=s_ipt value maxlength=255 autocomplete=off autofocus=autofocus></span><span class=\"bg s_btn_wr\"><input type=submit id=su value=ç¾åº¦ä¸ä¸ class=\"bg s_btn\" autofocus></span> </form> </div> </div> <div id=u1> <a href=http://news.baidu.com name=tj_trnews class=mnav>æ°é»</a> <a href=https://www.hao123.com name=tj_trhao123 class=mnav>hao123</a> <a href=http://map.baidu.com name=tj_trmap class=mnav>å°å¾</a> <a href=http://v.baidu.com name=tj_trvideo class=mnav>è§é¢</a> <a href=http://tieba.baidu.com name=tj_trtieba class=mnav>è´´å§</a> <noscript> <a href=http://www.baidu.com/bdorz/login.gif?login&amp;tpl=mn&amp;u=http%3A%2F%2Fwww.baidu.com%2f%3fbdorz_come%3d1 name=tj_login class=lb>ç»å½</a> </noscript> <script>document.write('<a href=\"http://www.baidu.com/bdorz/login.gif?login&tpl=mn&u='+ encodeURIComponent(window.location.href+ (window.location.search === \"\" ? \"?\" : \"&\")+ \"bdorz_come=1\")+ '\" name=\"tj_login\" class=\"lb\">ç»å½</a>');\n",
      "                </script> <a href=//www.baidu.com/more/ name=tj_briicon class=bri style=\"display: block;\">æ´å¤äº§å</a> </div> </div> </div> <div id=ftCon> <div id=ftConw> <p id=lh> <a href=http://home.baidu.com>å³äºç¾åº¦</a> <a href=http://ir.baidu.com>About Baidu</a> </p> <p id=cp>&copy;2017&nbsp;Baidu&nbsp;<a href=http://www.baidu.com/duty/>ä½¿ç¨ç¾åº¦åå¿è¯»</a>&nbsp; <a href=http://jianyi.baidu.com/ class=cp-feedback>æè§åé¦</a>&nbsp;äº¬ICPè¯030173å·&nbsp; <img src=//www.baidu.com/img/gs.gif> </p> </div> </div> </div> </body> </html>\n",
      "\n"
     ]
    }
   ],
   "source": [
    "import requests\n",
    "import threading \n",
    "\n",
    "def fetch_url(url, callback):\n",
    "    '''\n",
    "    通过 requests 库来获取 url 的内容\n",
    "    '''\n",
    "    def run():\n",
    "        response = requests.get(url)\n",
    "        callback(response)\n",
    "    threading.Thread(target=run).start()\n",
    "\n",
    "def print_response(response):\n",
    "    '''\n",
    "    打印 response 的内容\n",
    "    '''\n",
    "    print(response.text)\n",
    "\n",
    "print('start fetching')\n",
    "fetch_url('https://www.baidu.com', print_response)\n",
    "print('end fetching')"
   ]
  },
  {
   "cell_type": "code",
   "execution_count": 8,
   "metadata": {},
   "outputs": [
    {
     "name": "stdout",
     "output_type": "stream",
     "text": [
      "116.480639,39.996356\n",
      "17621\n",
      "{'status': '0', 'info': 'SERVICE_NOT_AVAILABLE', 'infocode': '10002'}\n"
     ]
    }
   ],
   "source": [
    "## 第三方 API 的使用\n",
    "import requests\n",
    "\n",
    "class GaodeAPIClient:\n",
    "    def __init__(self, key):\n",
    "        self.key = key\n",
    "    \n",
    "    def get_location(self, address):\n",
    "        ''' \n",
    "        获取地址的经纬度\n",
    "        '''\n",
    "        url = 'https://restapi.amap.com/v3/geocode/geo'\n",
    "        params = {\n",
    "            'key': self.key,\n",
    "            'address': address\n",
    "        }\n",
    "        response = requests.get(url, params=params)\n",
    "        data = response.json()\n",
    "        return data['geocodes'][0]['location']\n",
    "    \n",
    "    def get_distance(self, origin, destination):\n",
    "        ''' \n",
    "        获取两个地址之间的距离\n",
    "        '''\n",
    "        url = 'https://restapi.amap.com/v3/distance'\n",
    "        params = {\n",
    "            'key': self.key,\n",
    "            'origins': origin,\n",
    "            'destination': destination\n",
    "        }\n",
    "        response = requests.get(url, params=params)\n",
    "        data = response.json()\n",
    "        return data['results'][0]['distance']\n",
    "    \n",
    "    def get_path_transport(self,origin,destination,type = 'bus'):\n",
    "        ''' \n",
    "        获取不同交通方式下的交通路径，可选的包括驾车、公交、步行、骑行\n",
    "        这里的 API 需要考虑再优化一下\n",
    "        '''\n",
    "        url = 'https://restapi.amap.com/v3/direction/'+type\n",
    "        params = {\n",
    "            'key': self.key,\n",
    "            'origin': origin,\n",
    "            'destination': destination\n",
    "        }\n",
    "        response = requests.get(url, params=params)\n",
    "        data = response.json()\n",
    "        return data\n",
    "\n",
    "with open('key.xcl', 'r') as f:\n",
    "    key = f.read().strip()\n",
    "data_client = GaodeAPIClient(key=key)\n",
    "location = data_client.get_location('北京市朝阳区望京SOHO')\n",
    "print(location)\n",
    "distance = data_client.get_distance('116.482038,39.997621', '116.313393,39.984092')\n",
    "print(distance)\n",
    "path = data_client.get_path_transport('116.482038,39.997621', '116.313393,39.984092')\n",
    "print(path)"
   ]
  },
  {
   "cell_type": "code",
   "execution_count": null,
   "metadata": {},
   "outputs": [],
   "source": []
  }
 ],
 "metadata": {
  "kernelspec": {
   "display_name": "step",
   "language": "python",
   "name": "python3"
  },
  "language_info": {
   "codemirror_mode": {
    "name": "ipython",
    "version": 3
   },
   "file_extension": ".py",
   "mimetype": "text/x-python",
   "name": "python",
   "nbconvert_exporter": "python",
   "pygments_lexer": "ipython3",
   "version": "3.9.19"
  }
 },
 "nbformat": 4,
 "nbformat_minor": 2
}
