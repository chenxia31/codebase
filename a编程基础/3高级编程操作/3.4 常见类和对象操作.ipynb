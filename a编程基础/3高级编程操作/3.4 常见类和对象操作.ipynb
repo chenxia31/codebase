{
 "cells": [
  {
   "cell_type": "markdown",
   "metadata": {},
   "source": [
    "## 常见类和对象操作\n",
    "\n",
    "这些从实践中观察如何来构造常见的类的示例，包括但不限于\n",
    "1. torch dataset 的自定义实现方式，【基于 tensor】、【基于序列数据】、【基于文本数据】\n",
    "2. torch Model 的自定义实现方式\n",
    "3. scikit learner 的自定义实现方式\n",
    "4. 定义数据预处理的管道（Filter、Transformer、Fit、Predict）\n",
    "5. 自定义评估指标和回调函数\n",
    "6. 创建工具类类封装常用的功能，包括日志记录、配置管理等\n",
    "7. 利用类关管理实验的参数、结果和模型、方便实验的追踪和对比\n",
    "8. 集成第三方服务和接口，利用 API 封装来简化调用"
   ]
  },
  {
   "cell_type": "code",
   "execution_count": 1,
   "metadata": {},
   "outputs": [],
   "source": [
    "# Py Torch 中的 dataset 和 dataloader \n",
    "# 如何通过自己编写脚本的方式来实现数据集的自身制作\n",
    "import torch \n",
    "from torch.utils.data import Dataset, DataLoader\n",
    "\n",
    "class BaseDataset(Dataset):\n",
    "    ''' \n",
    "    通过集成 torch.utils.data.Dataset 类来实现自定义数据集\n",
    "    '''\n",
    "    def __init__(self):\n",
    "        self.data = torch.randn(100, 3, 32, 32)\n",
    "        self.label = torch.randint(0, 10, (100, ))\n",
    "    \n",
    "    def __len__(self):\n",
    "        ''' \n",
    "        重新定义两个基本的方法，一个是 __len__ 方法，用来返回数据集的长度\n",
    "        '''\n",
    "        return len(self.data)\n",
    "    \n",
    "    def __getitem__(self, index):\n",
    "        '''\n",
    "        另一个是 __getitem__ 方法，用来根据索引获取数据\n",
    "        '''\n",
    "        return self.data[index], self.label[index]"
   ]
  },
  {
   "cell_type": "code",
   "execution_count": 6,
   "metadata": {},
   "outputs": [
    {
     "name": "stdout",
     "output_type": "stream",
     "text": [
      "116.480639,39.996356\n",
      "17621\n"
     ]
    },
    {
     "ename": "KeyError",
     "evalue": "'route'",
     "output_type": "error",
     "traceback": [
      "\u001b[0;31m---------------------------------------------------------------------------\u001b[0m",
      "\u001b[0;31mKeyError\u001b[0m                                  Traceback (most recent call last)",
      "Cell \u001b[0;32mIn[6], line 56\u001b[0m\n\u001b[1;32m     54\u001b[0m distance \u001b[38;5;241m=\u001b[39m data_client\u001b[38;5;241m.\u001b[39mget_distance(\u001b[38;5;124m'\u001b[39m\u001b[38;5;124m116.482038,39.997621\u001b[39m\u001b[38;5;124m'\u001b[39m, \u001b[38;5;124m'\u001b[39m\u001b[38;5;124m116.313393,39.984092\u001b[39m\u001b[38;5;124m'\u001b[39m)\n\u001b[1;32m     55\u001b[0m \u001b[38;5;28mprint\u001b[39m(distance)\n\u001b[0;32m---> 56\u001b[0m path \u001b[38;5;241m=\u001b[39m \u001b[43mdata_client\u001b[49m\u001b[38;5;241;43m.\u001b[39;49m\u001b[43mget_path_transport\u001b[49m\u001b[43m(\u001b[49m\u001b[38;5;124;43m'\u001b[39;49m\u001b[38;5;124;43m116.482038,39.997621\u001b[39;49m\u001b[38;5;124;43m'\u001b[39;49m\u001b[43m,\u001b[49m\u001b[43m \u001b[49m\u001b[38;5;124;43m'\u001b[39;49m\u001b[38;5;124;43m116.313393,39.984092\u001b[39;49m\u001b[38;5;124;43m'\u001b[39;49m\u001b[43m)\u001b[49m\n\u001b[1;32m     57\u001b[0m \u001b[38;5;28mprint\u001b[39m(path)\n",
      "Cell \u001b[0;32mIn[6], line 47\u001b[0m, in \u001b[0;36mGaodeAPIClient.get_path_transport\u001b[0;34m(self, origin, destination, type)\u001b[0m\n\u001b[1;32m     45\u001b[0m response \u001b[38;5;241m=\u001b[39m requests\u001b[38;5;241m.\u001b[39mget(url, params\u001b[38;5;241m=\u001b[39mparams)\n\u001b[1;32m     46\u001b[0m data \u001b[38;5;241m=\u001b[39m response\u001b[38;5;241m.\u001b[39mjson()\n\u001b[0;32m---> 47\u001b[0m \u001b[38;5;28;01mreturn\u001b[39;00m \u001b[43mdata\u001b[49m\u001b[43m[\u001b[49m\u001b[38;5;124;43m'\u001b[39;49m\u001b[38;5;124;43mroute\u001b[39;49m\u001b[38;5;124;43m'\u001b[39;49m\u001b[43m]\u001b[49m[\u001b[38;5;124m'\u001b[39m\u001b[38;5;124mpaths\u001b[39m\u001b[38;5;124m'\u001b[39m][\u001b[38;5;241m0\u001b[39m][\u001b[38;5;124m'\u001b[39m\u001b[38;5;124mdistance\u001b[39m\u001b[38;5;124m'\u001b[39m]\n",
      "\u001b[0;31mKeyError\u001b[0m: 'route'"
     ]
    }
   ],
   "source": [
    "## 第三方 API 的使用\n",
    "import requests\n",
    "\n",
    "class GaodeAPIClient:\n",
    "    def __init__(self, key):\n",
    "        self.key = key\n",
    "    \n",
    "    def get_location(self, address):\n",
    "        ''' \n",
    "        获取地址的经纬度\n",
    "        '''\n",
    "        url = 'https://restapi.amap.com/v3/geocode/geo'\n",
    "        params = {\n",
    "            'key': self.key,\n",
    "            'address': address\n",
    "        }\n",
    "        response = requests.get(url, params=params)\n",
    "        data = response.json()\n",
    "        return data['geocodes'][0]['location']\n",
    "    \n",
    "    def get_distance(self, origin, destination):\n",
    "        ''' \n",
    "        获取两个地址之间的距离\n",
    "        '''\n",
    "        url = 'https://restapi.amap.com/v3/distance'\n",
    "        params = {\n",
    "            'key': self.key,\n",
    "            'origins': origin,\n",
    "            'destination': destination\n",
    "        }\n",
    "        response = requests.get(url, params=params)\n",
    "        data = response.json()\n",
    "        return data['results'][0]['distance']\n",
    "    \n",
    "    def get_path_transport(self,origin,destination,type = 'driver'):\n",
    "        ''' \n",
    "        获取不同交通方式下的交通路径，可选的包括驾车、公交、步行、骑行\n",
    "        '''\n",
    "        url = 'https://restapi.amap.com/v3/direction/'+type\n",
    "        params = {\n",
    "            'key': self.key,\n",
    "            'origin': origin,\n",
    "            'destination': destination\n",
    "        }\n",
    "        response = requests.get(url, params=params)\n",
    "        data = response.json()\n",
    "        return data\n",
    "\n",
    "with open('key.xcl', 'r') as f:\n",
    "    key = f.read().strip()\n",
    "data_client = GaodeAPIClient(key=key)\n",
    "location = data_client.get_location('北京市朝阳区望京SOHO')\n",
    "print(location)\n",
    "distance = data_client.get_distance('116.482038,39.997621', '116.313393,39.984092')\n",
    "print(distance)\n",
    "path = data_client.get_path_transport('116.482038,39.997621', '116.313393,39.984092')\n",
    "print(path)"
   ]
  },
  {
   "cell_type": "code",
   "execution_count": null,
   "metadata": {},
   "outputs": [],
   "source": []
  }
 ],
 "metadata": {
  "kernelspec": {
   "display_name": "step",
   "language": "python",
   "name": "python3"
  },
  "language_info": {
   "codemirror_mode": {
    "name": "ipython",
    "version": 3
   },
   "file_extension": ".py",
   "mimetype": "text/x-python",
   "name": "python",
   "nbconvert_exporter": "python",
   "pygments_lexer": "ipython3",
   "version": "3.9.19"
  }
 },
 "nbformat": 4,
 "nbformat_minor": 2
}
