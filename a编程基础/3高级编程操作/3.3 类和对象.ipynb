{
 "cells": [
  {
   "cell_type": "markdown",
   "metadata": {},
   "source": [
    "# 类和对象"
   ]
  },
  {
   "cell_type": "markdown",
   "metadata": {},
   "source": [
    "类和对象是 Oops 中封装特征的体现，类将属性和围绕属性操作的方法封装在一起，相同功能的代码内聚成为类，不同功能类之间相互隔离\n",
    "\n",
    "- 类私有属性和私有方法，类方法的第一个参数总是 cls，指的是类对象，而实例方法的第一个参数总是 self，指的是实例对象，声明类的方法时候需要增加 @classmethod 或者 @staticmethod 装饰器\n",
    "- @classmethod 装饰器定义类方法，类方法的第一个参数是类对象，类方法可以通过类对象调用，也可以通过实例对象调用\n",
    "- @staticmethod 装饰器定义静态方法，静态方法的参数没有限制，可以通过类对象调用，也可以通过实例对象调用\n"
   ]
  },
  {
   "cell_type": "code",
   "execution_count": 13,
   "metadata": {},
   "outputs": [
    {
     "name": "stdout",
     "output_type": "stream",
     "text": [
      "0 __repr__\n",
      "1 __hash__\n",
      "2 __str__\n",
      "3 __getattribute__\n",
      "4 __setattr__\n",
      "5 __delattr__\n",
      "6 __lt__\n",
      "7 __le__\n",
      "8 __eq__\n",
      "9 __ne__\n",
      "10 __gt__\n",
      "11 __ge__\n",
      "12 __init__\n",
      "13 __new__\n",
      "14 __reduce_ex__\n",
      "15 __reduce__\n",
      "16 __subclasshook__\n",
      "17 __init_subclass__\n",
      "18 __format__\n",
      "19 __sizeof__\n",
      "20 __dir__\n",
      "21 __class__\n",
      "22 __doc__\n"
     ]
    }
   ],
   "source": [
    "# object是所有类的基类\n",
    "for i, j in enumerate(object.__dict__):\n",
    "    print(i, j)\n",
    "\n",
    "# 基本属性的作用\n",
    "# __class__ 用于获取对象的类\n",
    "# __doc__ 用于获取对象的文档字符串\n",
    "# __module__ 用于获取对象所在模块的名称\n",
    "# __dict__ 用于获取对象的属性\n",
    "# __weakref__ 用于获取对象的弱引用\n",
    "# __repr__ 用于获取对象的字符串表示\n",
    "# __hash__ 用于获取对象的哈希值\n",
    "# __str__ 用于获取对象的字符串表示\n",
    "# __getattribute__ 用于获取对象的属性\n",
    "# __setattr__ 用于设置对象的属性\n",
    "# __delattr__ 用于删除对象的属性\n",
    "# __dir__ 用于获取对象的属性列表\n",
    "# __sizeof__ 用于获取对象的大小\n",
    "# __format__ 用于格式化对象的字符串表示\n",
    "# __eq__ 用于判断对象是否相等\n",
    "# __ne__ 用于判断对象是否不相等\n",
    "# __lt__ 用于判断对象是否小于\n",
    "# __le__ 用于判断对象是否小于等于\n",
    "# __gt__ 用于判断对象是否大于\n",
    "# __ge__ 用于判断对象是否大于等于\n",
    "# __bool__ 用于判断对象是否为真\n",
    "# __bytes__ 用于获取对象的字节表示\n",
    "# __format__ 用于格式化对象的字符串表示"
   ]
  },
  {
   "cell_type": "code",
   "execution_count": 11,
   "metadata": {},
   "outputs": [
    {
     "name": "stdout",
     "output_type": "stream",
     "text": [
      "Name:  Jane , Salary:  70000\n"
     ]
    }
   ],
   "source": [
    "class Employee:\n",
    "    def __init__(self, name, salary):\n",
    "        self.name = name\n",
    "        self.salary = salary\n",
    "\n",
    "    def display(self):\n",
    "        print(\"Name: \", self.name, \", Salary: \", self.salary)\n",
    "    \n",
    "    @classmethod\n",
    "    def from_string(cls, emp_str):\n",
    "        name, salary = emp_str.split(\"-\")\n",
    "        return cls(name, salary)\n",
    "    \n",
    "    @staticmethod\n",
    "    def is_work_day(day):\n",
    "        if day.weekday() == 5 or day.weekday() == 6:\n",
    "            return False\n",
    "        return True\n",
    "\n",
    "from datetime import datetime as time\n",
    "emp1 = Employee(\"John\", 50000)\n",
    "emp1.is_work_day(time.now())\n",
    "\n",
    "emp_str = \"Jane-70000\"\n",
    "emp2 = Employee.from_string(emp_str)\n",
    "emp2.display()"
   ]
  },
  {
   "cell_type": "code",
   "execution_count": 2,
   "metadata": {},
   "outputs": [],
   "source": [
    "# 为类增加可以被审查的属性 @property,@property.setter,@property.deleter\n",
    "\n",
    "class Person:\n",
    "    def __init__(self, first_name):\n",
    "        self.first_name = first_name\n",
    "    \n",
    "    @property\n",
    "    def first_name(self):\n",
    "        return self._first_name\n",
    "    \n",
    "    @first_name.setter\n",
    "    def first_name(self, value):\n",
    "        if not isinstance(value, str):\n",
    "            raise TypeError('Expected a string')\n",
    "        self._first_name = value\n",
    "    \n",
    "    @first_name.deleter\n",
    "    def first_name(self):\n",
    "        raise AttributeError(\"Can't delete attribute\")\n",
    "\n",
    "a = Person('Guido')\n",
    "# b = Person(12)"
   ]
  },
  {
   "cell_type": "code",
   "execution_count": 4,
   "metadata": {},
   "outputs": [
    {
     "name": "stdout",
     "output_type": "stream",
     "text": [
      "B.spam\n",
      "A.spam\n"
     ]
    }
   ],
   "source": [
    "# 再子类中调用已经被覆写的父类的方法，需要使用super()函数\n",
    "\n",
    "class A:\n",
    "    def spam(self):\n",
    "        print('A.spam')\n",
    "\n",
    "class B(A):\n",
    "    def __init__(self):\n",
    "        super().__init__() # 保证父类被正确的初始化\n",
    "\n",
    "    def spam(self):\n",
    "        print('B.spam')\n",
    "        super().spam()\n",
    "\n",
    "B().spam()"
   ]
  },
  {
   "cell_type": "code",
   "execution_count": 5,
   "metadata": {},
   "outputs": [],
   "source": [
    "# 简化数据结构的初始化，不希望太多 init 中由太多的参数\n",
    "# 解决方案可以写一个公共的 init 函数\n",
    "# 相比较单独的定义一个一个 init 属性，这样的方法更加的优雅\n",
    "\n",
    "class BaseStructure:\n",
    "    _fields = []\n",
    "\n",
    "    def __init__(self,*args):\n",
    "        if len(args) != len(self._fields):\n",
    "            raise TypeError('Expected {} arguments'.format(len(self._fields)))\n",
    "        for name, value in zip(self._fields, args):\n",
    "            setattr(self, name, value)\n",
    "    \n",
    "class Stock(BaseStructure):\n",
    "    _fields = ['name', 'shares', 'price']\n",
    "\n",
    "class Point(BaseStructure):\n",
    "    _fields = ['x', 'y']\n",
    "\n",
    "s = Stock('ACME', 50, 91.1)\n",
    "p = Point(2, 3)"
   ]
  },
  {
   "cell_type": "code",
   "execution_count": 14,
   "metadata": {},
   "outputs": [],
   "source": [
    "# 如何定义接口或者抽象基类，并通过执行类型检查来保证子类实现了特定的额方法\n",
    "\n",
    "from abc import ABCMeta, abstractmethod\n",
    "\n",
    "class IStream(metaclass=ABCMeta):\n",
    "    @abstractmethod\n",
    "    def read(self, maxbytes=-1):\n",
    "        pass\n",
    "\n",
    "    @abstractmethod\n",
    "    def write(self, data):\n",
    "        pass"
   ]
  },
  {
   "cell_type": "code",
   "execution_count": null,
   "metadata": {},
   "outputs": [],
   "source": []
  }
 ],
 "metadata": {
  "kernelspec": {
   "display_name": "step",
   "language": "python",
   "name": "python3"
  },
  "language_info": {
   "codemirror_mode": {
    "name": "ipython",
    "version": 3
   },
   "file_extension": ".py",
   "mimetype": "text/x-python",
   "name": "python",
   "nbconvert_exporter": "python",
   "pygments_lexer": "ipython3",
   "version": "3.9.19"
  }
 },
 "nbformat": 4,
 "nbformat_minor": 2
}
