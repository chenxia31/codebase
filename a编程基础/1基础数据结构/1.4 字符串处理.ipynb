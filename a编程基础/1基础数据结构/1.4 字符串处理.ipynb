{
 "cells": [
  {
   "cell_type": "markdown",
   "metadata": {},
   "source": [
    "## Chapter 2: 字符串(Strings) 和 文本(Text)\n",
    "\n",
    "在实际的使用中几乎所有的程度都会涉及到字符串和文本处理，Python提供了很多内置的方法来处理字符串和文本。在这一章节中，我们将学习如何使用这些方法来处理字符串和文本。\n",
    "\n",
    "字符串常见的处理方式包括：\n",
    "1. 提取字符串\n",
    "2. 搜索\n",
    "3. 替换\n",
    "4. 解析\n",
    "\n",
    "除了字符串内建的方法之外，还包括正则表达式的使用"
   ]
  },
  {
   "cell_type": "code",
   "execution_count": 1,
   "metadata": {},
   "outputs": [],
   "source": [
    "# Python 字符串常见的内建函数\n",
    "# Python 的字符串常见的内建函数如下：\n",
    "# 1、capitalize()：将字符串的第一个字符转换为大写。\n",
    "# 2、center(width, fillchar)：返回一个指定的宽度 width 居中的字符串，fillchar 为填充的字符，默认为空格。\n",
    "# 3、count(str, beg= 0,end=len(string))：返回 str 在 string 里面出现的次数，如果 beg 或者 end 指定则返回指定范围内 str 出现的次数。\n",
    "# 4、bytes.decode(encoding=\"utf-8\", errors=\"strict\")：Python3 中没有 decode 方法，但我们可以使用 bytes 对象的 decode() 方法来解码给定的 bytes 对象，这个 bytes 对象可以由 str.encode() 来编码返回。\n",
    "# 5、encode(encoding='UTF-8',errors='strict')：以 encoding 指定的编码格式编码字符串，如果出错默认报一个ValueError 的异常，除非 errors 指定的是'ignore'或者'replace'。\n",
    "# 6、endswith(suffix, beg=0, end=len(string))：检查字符串是否以 obj 结束，如果 beg 或者 end 指定则检查指定的范围内是否以 obj 结束，如果是，返回 True,否则返回 False。\n",
    "# 7、expandtabs(tabsize=8)：把字符串 string 中的 tab 符号转为空格，tab 符号默认的空格数是 8。\n",
    "# 8、find(str, beg=0 end=len(string))：检测 str 是否包含在字符串中，如果 beg 和 end 指定范围，则检查是否包含在指定范围内，如果包含，返回开始的索引值，否则返回-1。\n",
    "# 9、index(str, beg=0, end=len(string))：跟 find() 方法一样，只不过如果 str 不在字符串中会报一个异常。\n",
    "# 10、isalnum()：如果字符串至少有一个字符并且所有字符都是字母或数字则返回 True,否则返回 False。\n",
    "# 11、isalpha()：如果字符串至少有一个字符并且所有字符都是字母则返回 True,否则返回 False。\n",
    "# 12、isdigit()：如果字符串只包含数字则返回 True 否则返回 False。\n",
    "# 13、islower()：如果字符串中包含至少一个区分大小写的字符，并且所有这些(区分大小写的)字符都是小写，则返回 True，否则返回 False。\n",
    "# 14、isnumeric()：如果字符串中只包含数字字符，则返回 True，否则返回 False。\n",
    "# 15、isspace()：如果字符串中只包含空白，则返回 True，否则返回 False。\n",
    "# 16、istitle()：如果字符串是标题化的(见 title())则返回 True，否则返回 False。\n",
    "# 17、isupper()：如果字符串中包含至少一个区分大小写的字符，并且所有这些(区分大小写的)字符都是大写，则返回 True，否则返回 False。\n",
    "# 18、join(seq)：以指定字符串作为分隔符，将 seq 中所有的元素(的字符串表示)合并为一个新的字符串。\n",
    "# 19、len(string)：返回字符串长度。\n",
    "# 20、ljust(width[, fillchar])：返回一个原字符串左对齐，并使用 fillchar 填充至长度 width 的新字符串。\n",
    "# 21、lower()：转换字符串中所有大写字符为小写。\n",
    "# 22、lstrip()：截掉字符串左边的空格或指定字符。\n",
    "# 23、maketrans()：创建字符映射的转换表，对于接受两个参数的最简单的调用方式，第一个参数是字符串，表示需要转换的字符，第二个参数也是字符串表示转换的目标。\n",
    "# 24、max(str)：返回字符串 str 中最大的字母。\n",
    "# 25、min(str)：返回字符串 str 中最小的字母。\n",
    "# 26、replace(old, new [, max])：把 将字符串中的 old 替换成 new,如果 max 指定，则替换不超过 max 次。\n",
    "# 27、rfind(str, beg=0,end=len(string))：类似于 find()函数，不过是从右边开始查找。\n",
    "# 28、rindex( str, beg=0, end=len(string))：类似于 index()，不过是从右边开始。\n",
    "# 29、rjust(width,[, fillchar])：返回一个原字符串右对齐，并使用 fillchar(默认空格）填充至长度 width 的新字符串。\n",
    "# 30、rstrip()：删除字符串字符串末尾的空格。\n",
    "# 31、split(str=\"\", num=string.count(str))：num=string.count(str))：以 str 为分隔符截取字符串，如果 num 有指定值，则仅截取 num 个子字符串。\n",
    "# 32、splitlines([keepends])：按照行('\\r', '\\r\\n', \\n')分隔，返回一个包含各行作为元素的列表，如果参数 keepends 为 False，不包含换行符，如果为 True，则保留换行符。\n",
    "# 33、startswith(substr, beg=0,end=len(string))：检查字符串是否是以指定子字符串 substr 开头，是则返回 True，否则返回 False。如果 beg 和 end 指定值，则在指定范围内检查。\n",
    "# 34、strip([chars])：在字符串上执行 lstrip()和 rstrip()。\n",
    "# 35、swapcase()：将字符串中大写转换为小写，小写转换为大写。\n",
    "# 36、title()：返回\"标题化\"的字符串，就是说所有单词都是以大写开始，其余字母均为小写(见 istitle())。\n",
    "# 37、translate(table, deletechars=\"\")：根据 str 给出的表(包含 256 个字符)转换 string 的字符, 要过滤掉的字符放到 deletechars 参数中。\n",
    "# 38、upper()：转换字符串中的所有小写字符为大写。\n",
    "# 39、zfill (width)：返回长度为 width 的字符串，原字符串右对齐，前面填充0。\n",
    "# 40、isdecimal()：检查字符串是否只包含十进制字符，如果是返回 true，否则返回 false。\n",
    "# 41、partition()：方法用来根据指定的分隔符将字符串进行分割。\n",
    "# 42、rpartition()：方法类似于 partition() 方法，不过是从右边开始查找。\n",
    "# 43、split()：通过指定分隔符对字符串进行切片，如果第二个参数 num 有指定值，则分隔 num+1 个子字符串。\n",
    "# 44、rsplit()：类似于 split() 方法，只不过是从右边开始。\n",
    "# 45、splitlines()：按照行('\\r', '\\r\\n', \\n')分隔，返回一个包含各行作为元素的列表。\n",
    "# 46、isidentifier()：判断字符串是不是一个合法的标识符，即判断是不是一个合法的变量名。\n",
    "# 47、isprintable()：检测字符串是否只包含可打印字符。"
   ]
  },
  {
   "cell_type": "code",
   "execution_count": 4,
   "metadata": {},
   "outputs": [
    {
     "name": "stdout",
     "output_type": "stream",
     "text": [
      "['Python', 'is', 'a', 'programming', 'language.', 'Python', 'is', 'a', 'scripting', 'language.', 'Python', 'is', 'a', 'high-level', 'language.']\n",
      "['Python', 'Python', 'Python']\n",
      "['language.', 'language.', 'language.']\n"
     ]
    }
   ],
   "source": [
    "lines = \"Python is a programming language. Python is a scripting language. Python is a high-level language.\"\n",
    "\n",
    "# 使用某种界定符号对字符串进行分割\n",
    "res = lines.split(\" \")\n",
    "print(res)\n",
    "\n",
    "# 检验字符串开头或者结束是否是某个字符串\n",
    "res_start_with_python = filter(lambda x: x.startswith(\"Python\"), res)\n",
    "print(list(res_start_with_python))\n",
    "\n",
    "res_end_with_language = filter(lambda x: x.endswith(\"language.\"), res)\n",
    "print(list(res_end_with_language))"
   ]
  },
  {
   "cell_type": "code",
   "execution_count": 6,
   "metadata": {},
   "outputs": [
    {
     "name": "stdout",
     "output_type": "stream",
     "text": [
      "<re.Match object; span=(0, 6), match='Python'>\n"
     ]
    }
   ],
   "source": [
    "# 字符串匹配\n",
    "\n",
    "# 利用regex expression 来匹配字符串 re\n",
    "import re\n",
    "pattern = re.compile(r'Python')\n",
    "res = pattern.match(lines)\n",
    "print(res)"
   ]
  },
  {
   "cell_type": "code",
   "execution_count": 7,
   "metadata": {},
   "outputs": [
    {
     "name": "stdout",
     "output_type": "stream",
     "text": [
      "<re.Match object; span=(0, 6), match='Python'>\n"
     ]
    }
   ],
   "source": [
    "# 字符串搜索\n",
    "res = pattern.search(lines)\n",
    "print(res)"
   ]
  },
  {
   "cell_type": "code",
   "execution_count": 8,
   "metadata": {},
   "outputs": [
    {
     "name": "stdout",
     "output_type": "stream",
     "text": [
      "Name: Tom, Age: 20\n",
      "Name: Tom, Age: 20\n",
      "Name: Tom, Age: 20\n",
      "Name: Tom, Age: 20\n"
     ]
    }
   ],
   "source": [
    "# 字符串的特殊标识符有哪些\n",
    "# \\n 换行符\n",
    "# \\r 回车符\n",
    "# \\t 制表符\n",
    "# \\b 退格符\n",
    "# \\f 换页符\n",
    "# \\v 纵向制表符\n",
    "# \\a 响铃符\n",
    "# \\0 空字符\n",
    "# \\xhh 十六进制数 hh 表示的字符\n",
    "# \\ooo 八进制数 ooo 表示的字符\n",
    "\n",
    "# 字符串的格式化\n",
    "# 字符串的格式化可以使用 % 来进行格式化，也可以使用 format() 方法进行格式化，下面是两种格式化的方式：\n",
    "# 使用 % 进行格式化\n",
    "name = \"Tom\"\n",
    "age = 20\n",
    "print(\"Name: %s, Age: %d\" % (name, age))\n",
    "\n",
    "# 使用 format() 方法进行格式化\n",
    "print(\"Name: {}, Age: {}\".format(name, age))\n",
    "print(\"Name: {0}, Age: {1}\".format(name, age))\n",
    "print(\"Name: {name}, Age: {age}\".format(name=name, age=age))\n"
   ]
  },
  {
   "cell_type": "code",
   "execution_count": 9,
   "metadata": {},
   "outputs": [
    {
     "name": "stdout",
     "output_type": "stream",
     "text": [
      "Python is a\n",
      "programming\n",
      "language. Python is\n",
      "a scripting\n",
      "language. Python is\n",
      "a high-level\n",
      "language.\n"
     ]
    }
   ],
   "source": [
    "# 以指定的列宽格式化字符串\n",
    "import textwrap\n",
    "s = \"Python is a programming language. Python is a scripting language. Python is a high-level language.\"\n",
    "print(textwrap.fill(s, width=20))"
   ]
  },
  {
   "cell_type": "code",
   "execution_count": 1,
   "metadata": {},
   "outputs": [
    {
     "name": "stdout",
     "output_type": "stream",
     "text": [
      "Python is a programming language.\n"
     ]
    }
   ],
   "source": [
    "# 合并一个列表中的字符串\n",
    "s = [\"Python\", \"is\", \"a\", \"programming\", \"language.\"]\n",
    "print(\" \".join(s))"
   ]
  },
  {
   "cell_type": "code",
   "execution_count": null,
   "metadata": {},
   "outputs": [],
   "source": [
    "\n"
   ]
  }
 ],
 "metadata": {
  "kernelspec": {
   "display_name": "step",
   "language": "python",
   "name": "python3"
  },
  "language_info": {
   "codemirror_mode": {
    "name": "ipython",
    "version": 3
   },
   "file_extension": ".py",
   "mimetype": "text/x-python",
   "name": "python",
   "nbconvert_exporter": "python",
   "pygments_lexer": "ipython3",
   "version": "3.9.19"
  }
 },
 "nbformat": 4,
 "nbformat_minor": 2
}
