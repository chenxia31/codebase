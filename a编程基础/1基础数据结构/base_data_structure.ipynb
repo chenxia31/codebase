{
 "cells": [
  {
   "cell_type": "code",
   "execution_count": 2,
   "metadata": {},
   "outputs": [
    {
     "name": "stdout",
     "output_type": "stream",
     "text": [
      "3 4\n",
      "3 4 [5, 6]\n"
     ]
    }
   ],
   "source": [
    "a,b = [3,4] # 解压序列赋值\n",
    "print(a,b)\n",
    "arr = [3,4,5,6]\n",
    "a,b,*c = arr # 扩展序列解压\n",
    "print(a,b,c)"
   ]
  },
  {
   "cell_type": "code",
   "execution_count": 4,
   "metadata": {},
   "outputs": [
    {
     "name": "stdout",
     "output_type": "stream",
     "text": [
      "deque([1, 2, 3], maxlen=3)\n",
      "deque([2, 3, 4], maxlen=3)\n",
      "deque([5, 2, 3], maxlen=3)\n",
      "deque([5, 2], maxlen=3)\n"
     ]
    }
   ],
   "source": [
    "#  deque 队列的使用\n",
    "from collections import deque \n",
    "q = deque(maxlen=3)\n",
    "q.append(1)\n",
    "q.append(2)\n",
    "q.append(3)\n",
    "print(q)\n",
    "q.append(4)\n",
    "print(q)\n",
    "q.appendleft(5)\n",
    "print(q)\n",
    "q.pop()\n",
    "print(q)"
   ]
  },
  {
   "cell_type": "code",
   "execution_count": 15,
   "metadata": {},
   "outputs": [
    {
     "name": "stdout",
     "output_type": "stream",
     "text": [
      "37\n",
      "42\n",
      "23\n"
     ]
    }
   ],
   "source": [
    "# headp 堆的使用\n",
    "import heapq\n",
    "nums = [1,8,2,23,7,-4,18,23,42,37,2]\n",
    "heapq.heapify(nums)\n",
    "a = nums.pop()\n",
    "for i in range(3):\n",
    "    print(nums.pop())"
   ]
  },
  {
   "cell_type": "code",
   "execution_count": 16,
   "metadata": {},
   "outputs": [],
   "source": [
    "# heapq 优先队列的使用\n",
    "import heapq \n",
    "\n",
    "class PriorityQueue:\n",
    "    def __init__(self):\n",
    "        self._queue = []\n",
    "        self._index = 0\n",
    "    def push(self, item, priority):\n",
    "        heapq.heappush(self._queue, (-priority, self._index, item))\n",
    "        self._index += 1\n",
    "    def pop(self):\n",
    "        return heapq.heappop(self._queue)[-1]"
   ]
  },
  {
   "cell_type": "code",
   "execution_count": 21,
   "metadata": {},
   "outputs": [
    {
     "name": "stdout",
     "output_type": "stream",
     "text": [
      "dict_keys(['x', 'y', 'z'])\n",
      "dict_values([1, 2, 3])\n",
      "dict_items([('x', 1), ('y', 2), ('z', 3)])\n",
      "[('x', 1), ('y', 2), ('z', 3)]\n",
      "(1, 'x')\n",
      "(3, 'z')\n",
      "{'x', 'y'}\n",
      "{'z'}\n",
      "{('y', 2)}\n"
     ]
    }
   ],
   "source": [
    "# 字典数据结构 dict, 是一种数据集合\n",
    "\n",
    "a = {\n",
    "    'x':1,\n",
    "    'y':2,\n",
    "    'z':3\n",
    "}\n",
    "\n",
    "# 如何对字典进行读取\n",
    "print(a.keys()) # 返回字典的键\n",
    "print(a.values()) # 返回字典的值\n",
    "print(a.items()) # 返回字典的键值对\n",
    "\n",
    "# 对字典数据进行排序,利用la'mbda表达式\n",
    "b = sorted(a.items(), key=lambda x:x[1])\n",
    "print(b)\n",
    "\n",
    "# 找到字典对应的最小值\n",
    "print(min(zip(a.values(), a.keys())))\n",
    "print(max(zip(a.values(), a.keys())))\n",
    "\n",
    "# 字典的集合操作\n",
    "a = {\n",
    "    'x':1,\n",
    "    'y':2,\n",
    "    'z':3\n",
    "}\n",
    "\n",
    "b = {\n",
    "    'w':10,\n",
    "    'x':11,\n",
    "    'y':2\n",
    "}\n",
    "\n",
    "# 找到相同的键\n",
    "print(a.keys() & b.keys())\n",
    "# 找到不同的键\n",
    "print(a.keys() - b.keys())\n",
    "# 找到相同的键值对\n",
    "print(a.items() & b.items())"
   ]
  },
  {
   "cell_type": "code",
   "execution_count": 23,
   "metadata": {},
   "outputs": [
    {
     "name": "stdout",
     "output_type": "stream",
     "text": [
      "51325.0\n"
     ]
    }
   ],
   "source": [
    "# 切片操作, 与其单纯的使用 a:b,不如使用可命名的 slices 对象\n",
    "record = '....................100 .......513.25 ..........'\n",
    "SHARES = slice(20,23)\n",
    "PRICE = slice(31,37)\n",
    "cost = int(record[SHARES]) * float(record[PRICE])\n",
    "print(cost)"
   ]
  },
  {
   "cell_type": "code",
   "execution_count": 24,
   "metadata": {},
   "outputs": [
    {
     "name": "stdout",
     "output_type": "stream",
     "text": [
      "Counter({1: 3, 2: 3, 3: 3, 4: 3, 5: 3, 6: 3, 7: 3, 8: 3})\n"
     ]
    }
   ],
   "source": [
    "# 计数器的使用\n",
    "from collections import Counter\n",
    "a = [1,2,3,4,5,6,7,8,1,2,3,4,5,6,7,8,1,2,3,4,5,6,7,8]\n",
    "word_counts = Counter(a)\n",
    "print(word_counts)"
   ]
  },
  {
   "cell_type": "code",
   "execution_count": 25,
   "metadata": {},
   "outputs": [
    {
     "name": "stdout",
     "output_type": "stream",
     "text": [
      "[1, 4, 9, 16, 25]\n",
      "[-5, -4, -3, -2, -1]\n",
      "24\n",
      "[(1, 'a'), (2, 'b'), (3, 'c'), (4, 'd')]\n"
     ]
    }
   ],
   "source": [
    "# Python 中 lisp 相关的函数\n",
    "# map: 对序列中的每个元素进行操作\n",
    "# filter: 对序列中的每个元素进行判断\n",
    "# reduce: 对序列中的每个元素进行累加操作\n",
    "# lambda: 匿名函数\n",
    "# zip: 对序列中的每个元素进行打包操作\n",
    "# enumerate: 对序列中的每个元素进行索引操作\n",
    "\n",
    "# map 的使用, 将一个可迭代对象中的每一个元素送入函数中进行操作，直接返回对应的可迭代之后的结果 map(function, iterable)\n",
    "items = [1,2,3,4,5]\n",
    "squared = list(map(lambda x: x**2, items))\n",
    "print(squared)\n",
    "\n",
    "# filter 的使用, 将一个可迭代对象中的每一个元素送入函数中进行判断，直接返回对应的可迭代之后的结果 filter(function, iterable)\n",
    "number_list = range(-5,5)\n",
    "less_than_zero = list(filter(lambda x: x<0, number_list))\n",
    "print(less_than_zero)\n",
    "\n",
    "# reduce 的使用, 将一个可迭代对象中的每一个元素送入函数中进行累加操作，直接返回对应的可迭代之后的结果 reduce(function, iterable)\n",
    "from functools import reduce\n",
    "product = reduce((lambda x, y: x*y), [1,2,3,4])\n",
    "print(product)\n",
    "\n",
    "# zip 的使用, 将两个可迭代对象中的每一个元素进行打包操作，直接返回对应的可迭代之后的结果 zip(iterable1, iterable2)\n",
    "list1 = [1,2,3,4]\n",
    "list2 = ['a','b','c','d']\n",
    "zipped = list(zip(list1, list2))\n",
    "print(zipped)\n"
   ]
  },
  {
   "cell_type": "code",
   "execution_count": null,
   "metadata": {},
   "outputs": [],
   "source": []
  }
 ],
 "metadata": {
  "kernelspec": {
   "display_name": "base",
   "language": "python",
   "name": "python3"
  },
  "language_info": {
   "codemirror_mode": {
    "name": "ipython",
    "version": 3
   },
   "file_extension": ".py",
   "mimetype": "text/x-python",
   "name": "python",
   "nbconvert_exporter": "python",
   "pygments_lexer": "ipython3",
   "version": "3.12.4"
  }
 },
 "nbformat": 4,
 "nbformat_minor": 2
}
