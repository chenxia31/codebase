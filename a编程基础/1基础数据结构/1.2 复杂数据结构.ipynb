{
 "cells": [
  {
   "cell_type": "markdown",
   "metadata": {},
   "source": [
    "# 复杂的基本数据结果主要介绍 Python 中标准库中的信息\n",
    "\n",
    "1. collections.deque 双端队列\n",
    "2. heapq 堆队列\n",
    "3. counter 计数器\n",
    "\n"
   ]
  },
  {
   "cell_type": "code",
   "execution_count": 2,
   "metadata": {},
   "outputs": [
    {
     "name": "stdout",
     "output_type": "stream",
     "text": [
      "3 4\n",
      "3 4 [5, 6]\n"
     ]
    }
   ],
   "source": [
    "a,b = [3,4] # 解压序列赋值\n",
    "print(a,b)\n",
    "arr = [3,4,5,6]\n",
    "a,b,*c = arr # 扩展序列解压\n",
    "print(a,b,c)"
   ]
  },
  {
   "cell_type": "code",
   "execution_count": 4,
   "metadata": {},
   "outputs": [
    {
     "name": "stdout",
     "output_type": "stream",
     "text": [
      "deque([1, 2, 3], maxlen=3)\n",
      "deque([2, 3, 4], maxlen=3)\n",
      "deque([5, 2, 3], maxlen=3)\n",
      "deque([5, 2], maxlen=3)\n"
     ]
    }
   ],
   "source": [
    "#  deque 队列的使用\n",
    "from collections import deque \n",
    "q = deque(maxlen=3)\n",
    "q.append(1)\n",
    "q.append(2)\n",
    "q.append(3)\n",
    "print(q)\n",
    "q.append(4)\n",
    "print(q)\n",
    "q.appendleft(5)\n",
    "print(q)\n",
    "q.pop()\n",
    "print(q)"
   ]
  },
  {
   "cell_type": "code",
   "execution_count": 15,
   "metadata": {},
   "outputs": [
    {
     "name": "stdout",
     "output_type": "stream",
     "text": [
      "37\n",
      "42\n",
      "23\n"
     ]
    }
   ],
   "source": [
    "# headp 堆的使用\n",
    "import heapq\n",
    "nums = [1,8,2,23,7,-4,18,23,42,37,2]\n",
    "heapq.heapify(nums)\n",
    "a = nums.pop()\n",
    "for i in range(3):\n",
    "    print(nums.pop())"
   ]
  },
  {
   "cell_type": "code",
   "execution_count": 16,
   "metadata": {},
   "outputs": [],
   "source": [
    "# heapq 优先队列的使用\n",
    "import heapq \n",
    "\n",
    "class PriorityQueue:\n",
    "    def __init__(self):\n",
    "        self._queue = []\n",
    "        self._index = 0\n",
    "    def push(self, item, priority):\n",
    "        heapq.heappush(self._queue, (-priority, self._index, item))\n",
    "        self._index += 1\n",
    "    def pop(self):\n",
    "        return heapq.heappop(self._queue)[-1]"
   ]
  },
  {
   "cell_type": "code",
   "execution_count": 23,
   "metadata": {},
   "outputs": [
    {
     "name": "stdout",
     "output_type": "stream",
     "text": [
      "51325.0\n"
     ]
    }
   ],
   "source": [
    "# 切片操作, 与其单纯的使用 a:b,不如使用可命名的 slices 对象\n",
    "record = '....................100 .......513.25 ..........'\n",
    "SHARES = slice(20,23)\n",
    "PRICE = slice(31,37)\n",
    "cost = int(record[SHARES]) * float(record[PRICE])\n",
    "print(cost)"
   ]
  },
  {
   "cell_type": "code",
   "execution_count": 24,
   "metadata": {},
   "outputs": [
    {
     "name": "stdout",
     "output_type": "stream",
     "text": [
      "Counter({1: 3, 2: 3, 3: 3, 4: 3, 5: 3, 6: 3, 7: 3, 8: 3})\n"
     ]
    }
   ],
   "source": [
    "# 计数器的使用\n",
    "from collections import Counter\n",
    "a = [1,2,3,4,5,6,7,8,1,2,3,4,5,6,7,8,1,2,3,4,5,6,7,8]\n",
    "word_counts = Counter(a)\n",
    "print(word_counts)"
   ]
  }
 ],
 "metadata": {
  "kernelspec": {
   "display_name": "base",
   "language": "python",
   "name": "python3"
  },
  "language_info": {
   "codemirror_mode": {
    "name": "ipython",
    "version": 3
   },
   "file_extension": ".py",
   "mimetype": "text/x-python",
   "name": "python",
   "nbconvert_exporter": "python",
   "pygments_lexer": "ipython3",
   "version": "3.12.4"
  }
 },
 "nbformat": 4,
 "nbformat_minor": 2
}
