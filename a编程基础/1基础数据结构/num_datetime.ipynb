{
 "cells": [
  {
   "cell_type": "code",
   "execution_count": 1,
   "metadata": {},
   "outputs": [
    {
     "name": "stdout",
     "output_type": "stream",
     "text": [
      "1.23\n",
      "The value is 1.23\n"
     ]
    }
   ],
   "source": [
    "# 四舍五入和格式化\n",
    "a = 1.23456\n",
    "print(round(a, 2))\n",
    "print('The value is {:.2f}'.format(a))"
   ]
  },
  {
   "cell_type": "code",
   "execution_count": 3,
   "metadata": {},
   "outputs": [
    {
     "name": "stdout",
     "output_type": "stream",
     "text": [
      "6.300000000000001\n",
      "6.3\n"
     ]
    }
   ],
   "source": [
    "# 如何精确的计算浮点数，由于 IEEE 754 浮点数的一个普遍问题，即浮点数的精度问题\n",
    "a = 4.2\n",
    "b = 2.1\n",
    "print(a + b)\n",
    "\n",
    "# 转换成为严格的十进制数\n",
    "from decimal import Decimal\n",
    "a = Decimal('4.2')\n",
    "b = Decimal('2.1')\n",
    "print(a + b)\n"
   ]
  },
  {
   "cell_type": "code",
   "execution_count": 4,
   "metadata": {},
   "outputs": [
    {
     "name": "stdout",
     "output_type": "stream",
     "text": [
      "inf -inf nan\n"
     ]
    }
   ],
   "source": [
    "# 创建无穷大或者 NaN，认为是一个特殊的浮点数\n",
    "a = float('inf')\n",
    "b = float('-inf')\n",
    "c = float('nan')\n",
    "print(a, b, c)"
   ]
  },
  {
   "cell_type": "code",
   "execution_count": 6,
   "metadata": {},
   "outputs": [
    {
     "name": "stdout",
     "output_type": "stream",
     "text": [
      "27/16\n"
     ]
    }
   ],
   "source": [
    "# 分数运算\n",
    "from fractions import Fraction\n",
    "a = Fraction(5, 4)\n",
    "b = Fraction(7, 16)\n",
    "print(a + b)\n",
    "# numerator 分子\n",
    "# denominator 分母\n",
    "c = a * b"
   ]
  },
  {
   "cell_type": "code",
   "execution_count": 8,
   "metadata": {},
   "outputs": [
    {
     "name": "stdout",
     "output_type": "stream",
     "text": [
      "2\n",
      "[5, 2]\n",
      "[1, 4, 6, 5, 3, 2]\n",
      "10\n",
      "0.22544552756269232\n",
      "305939358750144425185546799464404707872123712913594633021793\n",
      "[0.9424138926517727, 0.09539467020827308, 0.0725927847159078, 0.31321676210883853, 0.44174729566556004, 0.6209123684813855, 0.07177222432734265, 0.5152420613913854, 0.38842351589832946, 0.8068361623833891, 0.7205344585631119, 0.7277247921018896, 0.31059561097718424, 0.6160063128466412, 0.2625671481987917, 0.8622879625955004, 0.8353697985119559, 0.6459527374947748, 0.32555199340489227, 0.3415218164998156, 0.1451404689229353, 0.5378578896666443, 0.14052339952615112, 0.7457760086251132, 0.575216083946161, 0.918575327696346, 0.990929141879916, 0.037136212667406854, 0.24977326276760559, 0.8523059511211749, 0.7203695526404045, 0.3448299077901429, 0.7303839215280535, 0.2601379556782252, 0.778412121081794, 0.4593207761182051, 0.7082621462255156, 0.8496916388729339, 0.060723102197232426, 0.9496213282320627, 0.8268502749011323, 0.42472685174702973, 0.8947970287006795, 0.6494028934139445, 0.5536798770919504, 0.5952385666053236, 0.5230415546404228, 0.129982871524441, 0.9652725982248864, 0.6719243691830764, 0.5480227610528987, 0.7964810392523655, 0.8196190254799053, 0.3222587872219308, 0.7368884638284977, 0.5374876034411695, 0.3441267150229731, 0.1785011749779547, 0.02693496616626556, 0.6260954091702969, 0.13486918790312996, 0.6124691325690652, 0.9780340382574102, 0.4742206590728021, 0.831083886790383, 0.10941130430616086, 0.5236185543010649, 0.622147133739036, 0.39654540295898344, 0.879892688678315, 0.1278771507339611, 0.42620840729129994, 0.774461754961168, 0.2181050547941643, 0.9859457937580821, 0.999130198579695, 0.593871530585683, 0.030927535176480836, 0.6476328179916634, 0.6970333259241764, 0.38305755861608237, 0.482903562075494, 0.7001560693091237, 0.07435179643238232, 0.6044435639966438, 0.25270586713096765, 0.4166962487279634, 0.8192043548933263, 0.07402622921839186, 0.6314626764454979, 0.3260074509818972, 0.7380785696084793, 0.2612419698563907, 0.48442934283399364, 0.06732047151813136, 0.8483725521890114, 0.5830968767258632, 0.595527833216639, 0.19768256278608076, 0.10720507533565737]\n",
      "0.20388390290833902\n"
     ]
    }
   ],
   "source": [
    "# 随机生成\n",
    "import random \n",
    "values = [1, 2, 3, 4, 5, 6]\n",
    "\n",
    "# 随机选择\n",
    "print(random.choice(values))\n",
    "\n",
    "# 随机采样\n",
    "print(random.sample(values, 2))\n",
    "\n",
    "# 打乱顺序  \n",
    "random.shuffle(values)\n",
    "print(values)\n",
    "\n",
    "# 生成随机整数\n",
    "print(random.randint(0, 10))\n",
    "\n",
    "# 生成 0-1 之间均匀分布的浮点数\n",
    "print(random.random())\n",
    "\n",
    "# 获取 N 位随机位(二进制)的整数\n",
    "print(random.getrandbits(200))\n",
    "\n",
    "# 生成 0-1 之间均匀分布的浮点数，要求 100 个\n",
    "print([random.random() for i in range(100)])\n",
    "\n",
    "# 生成高斯分布的浮点数\n",
    "print(random.normalvariate(0, 1))"
   ]
  },
  {
   "cell_type": "code",
   "execution_count": 15,
   "metadata": {},
   "outputs": [
    {
     "name": "stdout",
     "output_type": "stream",
     "text": [
      "2024-10-09 16:19:30.520839\n",
      "2024\n",
      "10\n",
      "9\n",
      "16\n",
      "19\n",
      "30\n",
      "2024-10-10 16:19:30.520839\n"
     ]
    }
   ],
   "source": [
    "# 关于时间日期主要包括几个重要对象\n",
    "# datetime 表示时间日期\n",
    "# timedelta 表示时间间隔\n",
    "# timezone 表示时区\n",
    "# time 表示时间\n",
    "# date 表示日期\n",
    "# calendar 表示日历\n",
    "\n",
    "# 常用的库有\n",
    "# time\n",
    "# datetime\n",
    "# calendar\n",
    "# dateutil 用于处理日期的工具库\n",
    "\n",
    "# 基本的日期时间\n",
    "# 日期具有的属性包括\n",
    "# year\n",
    "# month\n",
    "# day\n",
    "# hour\n",
    "# minute\n",
    "# second\n",
    "# microsecond\n",
    "\n",
    "from datetime import datetime \n",
    "now = datetime.now()\n",
    "print(now)\n",
    "print(now.year)\n",
    "print(now.month)\n",
    "print(now.day)\n",
    "print(now.hour)\n",
    "print(now.minute)\n",
    "print(now.second)\n",
    "\n",
    "# 时间差\n",
    "from datetime import timedelta\n",
    "delta = timedelta(days=1)\n",
    "print(now + delta)"
   ]
  },
  {
   "cell_type": "code",
   "execution_count": 20,
   "metadata": {},
   "outputs": [
    {
     "name": "stdout",
     "output_type": "stream",
     "text": [
      "2012-09-20 00:00:00\n"
     ]
    }
   ],
   "source": [
    "# 将字符串转换成为日期\n",
    "text = '2012-09-20'\n",
    "y = datetime.strptime(text, '%Y-%m-%d')\n",
    "print(y)\n",
    "# https://www.geeksforgeeks.org/python-datetime-strptime-function/\n",
    "# 日期表格中的含义\n",
    "# %Y 4 位数的年份\n",
    "# %y 2 位数的年份\n",
    "# %m 2 位数的月份\n",
    "# %d 2 位数的日期\n",
    "# %H 小时（24 小时制）\n",
    "# %I 小时（12 小时制）\n",
    "# %M 2 位数的分钟\n",
    "# %S 秒\n",
    "# %w 星期\n",
    "# %U 一年中的第几周\n"
   ]
  },
  {
   "cell_type": "code",
   "execution_count": 21,
   "metadata": {},
   "outputs": [
    {
     "name": "stdout",
     "output_type": "stream",
     "text": [
      "                   A         B         C         D\n",
      "2020-01-01  0.107534 -0.179751 -0.204894  0.357560\n",
      "2020-01-02 -1.118894 -0.531469  2.534662 -1.160929\n",
      "2020-01-03  1.153292 -0.425788 -1.294623 -0.786821\n",
      "2020-01-04 -1.400084  0.214786 -2.777741  0.489894\n",
      "2020-01-05  0.834195  0.301304  0.656662  1.014458\n",
      "2020-01-06  0.229124  0.563881 -1.083833 -0.525472\n"
     ]
    }
   ],
   "source": [
    "# pandas datetime 相关的 api 操作\n",
    "# pd.to_datetime\n",
    "# pd.date_range\n",
    "# pd.Timestamp\n",
    "# pd.Timedelta\n",
    "\n",
    "# 新建dataframe 包括时间\n",
    "import pandas as pd\n",
    "import numpy as np\n",
    "dates = pd.date_range('20200101', periods=6)\n",
    "df = pd.DataFrame(np.random.randn(6, 4), index=dates, columns=list('ABCD'))\n",
    "print(df)"
   ]
  },
  {
   "cell_type": "code",
   "execution_count": null,
   "metadata": {},
   "outputs": [],
   "source": []
  }
 ],
 "metadata": {
  "kernelspec": {
   "display_name": "base",
   "language": "python",
   "name": "python3"
  },
  "language_info": {
   "codemirror_mode": {
    "name": "ipython",
    "version": 3
   },
   "file_extension": ".py",
   "mimetype": "text/x-python",
   "name": "python",
   "nbconvert_exporter": "python",
   "pygments_lexer": "ipython3",
   "version": "3.12.4"
  }
 },
 "nbformat": 4,
 "nbformat_minor": 2
}
