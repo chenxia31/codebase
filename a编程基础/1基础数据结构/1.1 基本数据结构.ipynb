{
 "cells": [
  {
   "cell_type": "markdown",
   "metadata": {},
   "source": [
    "# Python 基本数据结构\n",
    "\n",
    "不可变数据类型：Number（数字）、String（字符串）、Tuple（元组）\n",
    "可变数据类型：List（列表）、Dictionary（字典）、Set（集合）"
   ]
  },
  {
   "cell_type": "markdown",
   "metadata": {},
   "source": [
    "## 0x01 List（列表）"
   ]
  },
  {
   "cell_type": "code",
   "execution_count": 1,
   "metadata": {},
   "outputs": [
    {
     "name": "stdout",
     "output_type": "stream",
     "text": [
      "[[1, 0, 0], [0, 0, 0], [0, 0, 0]]\n",
      "[[1, 0, 0], [1, 0, 0], [1, 0, 0]]\n",
      "[[1, 0, 0], [0, 0, 0], [0, 0, 0]]\n",
      "[[1, 0, 0, 0, 0, 0, 0, 0, 0]]\n"
     ]
    }
   ],
   "source": [
    "# 生成一个m*n的矩阵\n",
    "\n",
    "# 正确，但是较为复杂\n",
    "m = 3\n",
    "n = 3\n",
    "matrix = [[0 for i in range(n)] for j in range(m)] \n",
    "matrix[0][0] = 1\n",
    "print(matrix)\n",
    "# 正确，通常是这样的写法\n",
    "new_matrix = [[0] * n for i in range(m)]\n",
    "new_matrix[0][0] = 1\n",
    "print(new_matrix)\n",
    "\n",
    "# 错误，会造成列表浅拷贝的问题\n",
    "new_matrix = [[0] * n] * m \n",
    "new_matrix[0][0] = 1\n",
    "print(new_matrix)\n",
    "# 错误，会造成列表浅拷贝的问题\n",
    "new_matrix = [[0 for i in range(n)] * m ]\n",
    "new_matrix[0][0] = 1\n",
    "print(new_matrix)"
   ]
  },
  {
   "cell_type": "markdown",
   "metadata": {},
   "source": [
    "## 0x02 Set（集合）"
   ]
  },
  {
   "cell_type": "code",
   "execution_count": 2,
   "metadata": {},
   "outputs": [
    {
     "name": "stdout",
     "output_type": "stream",
     "text": [
      "{1, 2, 3, 4, 5}\n",
      "{3}\n",
      "{1, 2}\n",
      "{1, 2, 4, 5}\n"
     ]
    }
   ],
   "source": [
    "# 集合 运算符号\n",
    "a = {1, 2, 3}\n",
    "b = {3, 4, 5}\n",
    "\n",
    "print(a | b) # 并集\n",
    "print(a & b) # 交集\n",
    "print(a - b) # 差集\n",
    "print(a ^ b) # 对称差集\n"
   ]
  },
  {
   "cell_type": "markdown",
   "metadata": {},
   "source": [
    "## 0x03 Tuple （元组）\n",
    "所谓元组的不可变指的是元组所指向的内存中的内容不可变。\n",
    "\n",
    "列表可变指的是列表所指向的内存中的内容是可变的。\n",
    "\n",
    "如果元组中的元素指向列表，同时列表中的元素是可变的，那么元组中的元素是可变的。"
   ]
  },
  {
   "cell_type": "code",
   "execution_count": 5,
   "metadata": {},
   "outputs": [
    {
     "name": "stdout",
     "output_type": "stream",
     "text": [
      "4400405312\n",
      "(1, 2, [5, 4])\n",
      "4400630720\n",
      "4400405312\n",
      "(1, 2, [5, 4, 6])\n",
      "4400630720\n",
      "4400405312\n"
     ]
    }
   ],
   "source": [
    "a = (1, 2, [3, 4])\n",
    "print(id(a[2]))\n",
    "a[2][0] = 5\n",
    "print(a)\n",
    "print(id(a))\n",
    "print(id(a[2]))\n",
    "a[2].append(6)\n",
    "print(a)\n",
    "print(id(a))\n",
    "print(id(a[2]))"
   ]
  },
  {
   "cell_type": "markdown",
   "metadata": {},
   "source": [
    "## 0x04 Dictionary（字典）"
   ]
  },
  {
   "cell_type": "code",
   "execution_count": null,
   "metadata": {},
   "outputs": [],
   "source": [
    "# 字典数据结构 dict, 是一种数据集合\n",
    "\n",
    "a = {\n",
    "    'x':1,\n",
    "    'y':2,\n",
    "    'z':3\n",
    "}\n",
    "# 如何对字典进行读取\n",
    "print(a.keys()) # 返回字典的键\n",
    "print(a.values()) # 返回字典的值\n",
    "print(a.items()) # 返回字典的键值对\n",
    "\n",
    "# 对字典数据进行排序,利用lambda表达式\n",
    "# 为什么可以使用 lambda表达式：因为其输入的是一个可迭代对象，sorted 函数可以对其进行排序\n",
    "b = sorted(a.items(), key=lambda x:x[1])\n",
    "print(b)\n",
    "\n",
    "# 找到字典对应的最小值\n",
    "print(min(zip(a.values(), a.keys())))\n",
    "print(max(zip(a.values(), a.keys())))\n",
    "\n",
    "# 字典的集合操作\n",
    "a = {\n",
    "    'x':1,\n",
    "    'y':2,\n",
    "    'z':3\n",
    "}\n",
    "\n",
    "b = {\n",
    "    'w':10,\n",
    "    'x':11,\n",
    "    'y':2\n",
    "}\n",
    "\n",
    "# 找到相同的键\n",
    "print(a.keys() & b.keys())\n",
    "# 找到不同的键\n",
    "print(a.keys() - b.keys())\n",
    "# 找到相同的键值对\n",
    "print(a.items() & b.items())"
   ]
  }
 ],
 "metadata": {
  "kernelspec": {
   "display_name": "step",
   "language": "python",
   "name": "python3"
  },
  "language_info": {
   "codemirror_mode": {
    "name": "ipython",
    "version": 3
   },
   "file_extension": ".py",
   "mimetype": "text/x-python",
   "name": "python",
   "nbconvert_exporter": "python",
   "pygments_lexer": "ipython3",
   "version": "3.9.19"
  }
 },
 "nbformat": 4,
 "nbformat_minor": 2
}
